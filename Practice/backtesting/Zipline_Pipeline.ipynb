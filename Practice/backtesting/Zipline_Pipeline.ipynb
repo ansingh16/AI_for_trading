{
 "cells": [
  {
   "cell_type": "markdown",
   "metadata": {},
   "source": [
    "# Zipline Pipeline"
   ]
  },
  {
   "cell_type": "code",
   "execution_count": 44,
   "metadata": {},
   "outputs": [
    {
     "name": "stderr",
     "output_type": "stream",
     "text": [
      "  1%|          | 6/495 [00:06<10:01,  1.23s/it]"
     ]
    },
    {
     "name": "stdout",
     "output_type": "stream",
     "text": [
      "No data returned for ABC.\n"
     ]
    },
    {
     "name": "stderr",
     "output_type": "stream",
     "text": [
      "  3%|▎         | 13/495 [00:09<06:10,  1.30it/s]"
     ]
    },
    {
     "name": "stdout",
     "output_type": "stream",
     "text": [
      "No data returned for ADS.\n"
     ]
    },
    {
     "name": "stderr",
     "output_type": "stream",
     "text": [
      "  4%|▍         | 20/495 [00:14<07:15,  1.09it/s]"
     ]
    },
    {
     "name": "stdout",
     "output_type": "stream",
     "text": [
      "No data returned for AGN.\n"
     ]
    },
    {
     "name": "stderr",
     "output_type": "stream",
     "text": [
      "  6%|▋         | 31/495 [00:19<05:30,  1.40it/s]"
     ]
    },
    {
     "name": "stdout",
     "output_type": "stream",
     "text": [
      "No data returned for ALXN.\n"
     ]
    },
    {
     "name": "stderr",
     "output_type": "stream",
     "text": [
      "  8%|▊         | 42/495 [00:23<04:47,  1.57it/s]"
     ]
    },
    {
     "name": "stdout",
     "output_type": "stream",
     "text": [
      "No data returned for ANTM.\n"
     ]
    },
    {
     "name": "stderr",
     "output_type": "stream",
     "text": [
      "  9%|▉         | 46/495 [00:26<06:38,  1.13it/s]"
     ]
    },
    {
     "name": "stdout",
     "output_type": "stream",
     "text": [
      "No data returned for APC.\n"
     ]
    },
    {
     "name": "stderr",
     "output_type": "stream",
     "text": [
      " 10%|█         | 50/495 [00:29<06:30,  1.14it/s]"
     ]
    },
    {
     "name": "stdout",
     "output_type": "stream",
     "text": [
      "No data returned for ARNC.\n"
     ]
    },
    {
     "name": "stderr",
     "output_type": "stream",
     "text": [
      " 10%|█         | 51/495 [00:31<09:15,  1.25s/it]"
     ]
    },
    {
     "name": "stdout",
     "output_type": "stream",
     "text": [
      "No data returned for ATVI.\n"
     ]
    },
    {
     "name": "stderr",
     "output_type": "stream",
     "text": [
      " 13%|█▎        | 62/495 [00:37<05:55,  1.22it/s]"
     ]
    },
    {
     "name": "stdout",
     "output_type": "stream",
     "text": [
      "No data returned for BBT.\n"
     ]
    },
    {
     "name": "stderr",
     "output_type": "stream",
     "text": [
      " 13%|█▎        | 64/495 [00:38<04:05,  1.76it/s]"
     ]
    },
    {
     "name": "stdout",
     "output_type": "stream",
     "text": [
      "$BCR: possibly delisted; No price data found  (1d 2013-07-01 00:00:00 -> 2017-06-30 00:00:00)\n",
      "No data returned for BCR.\n"
     ]
    },
    {
     "name": "stderr",
     "output_type": "stream",
     "text": [
      " 14%|█▍        | 70/495 [00:42<06:49,  1.04it/s]"
     ]
    },
    {
     "name": "stdout",
     "output_type": "stream",
     "text": [
      "No data returned for BLL.\n"
     ]
    },
    {
     "name": "stderr",
     "output_type": "stream",
     "text": [
      " 15%|█▌        | 76/495 [00:46<06:14,  1.12it/s]"
     ]
    },
    {
     "name": "stdout",
     "output_type": "stream",
     "text": [
      "No data returned for CA.\n"
     ]
    },
    {
     "name": "stderr",
     "output_type": "stream",
     "text": [
      " 16%|█▋        | 81/495 [00:47<02:27,  2.80it/s]"
     ]
    },
    {
     "name": "stdout",
     "output_type": "stream",
     "text": [
      "$CBG: possibly delisted; No price data found  (1d 2013-07-01 00:00:00 -> 2017-06-30 00:00:00)\n",
      "No data returned for CBG.\n"
     ]
    },
    {
     "name": "stderr",
     "output_type": "stream",
     "text": [
      " 17%|█▋        | 83/495 [00:49<04:15,  1.61it/s]"
     ]
    },
    {
     "name": "stdout",
     "output_type": "stream",
     "text": [
      "No data returned for CBS.\n"
     ]
    },
    {
     "name": "stderr",
     "output_type": "stream",
     "text": [
      " 17%|█▋        | 86/495 [00:51<05:42,  1.19it/s]"
     ]
    },
    {
     "name": "stdout",
     "output_type": "stream",
     "text": [
      "No data returned for CELG.\n"
     ]
    },
    {
     "name": "stderr",
     "output_type": "stream",
     "text": [
      " 18%|█▊        | 87/495 [00:52<06:52,  1.01s/it]"
     ]
    },
    {
     "name": "stdout",
     "output_type": "stream",
     "text": [
      "No data returned for CERN.\n"
     ]
    },
    {
     "name": "stderr",
     "output_type": "stream",
     "text": [
      " 18%|█▊        | 91/495 [00:55<05:50,  1.15it/s]"
     ]
    },
    {
     "name": "stdout",
     "output_type": "stream",
     "text": [
      "No data returned for CHK.\n"
     ]
    },
    {
     "name": "stderr",
     "output_type": "stream",
     "text": [
      " 22%|██▏       | 107/495 [01:02<05:34,  1.16it/s]"
     ]
    },
    {
     "name": "stdout",
     "output_type": "stream",
     "text": [
      "No data returned for COG.\n"
     ]
    },
    {
     "name": "stderr",
     "output_type": "stream",
     "text": [
      " 24%|██▍       | 119/495 [01:08<05:39,  1.11it/s]"
     ]
    },
    {
     "name": "stdout",
     "output_type": "stream",
     "text": [
      "No data returned for CTL.\n"
     ]
    },
    {
     "name": "stderr",
     "output_type": "stream",
     "text": [
      " 24%|██▍       | 121/495 [01:10<06:12,  1.00it/s]"
     ]
    },
    {
     "name": "stdout",
     "output_type": "stream",
     "text": [
      "No data returned for CTXS.\n"
     ]
    },
    {
     "name": "stderr",
     "output_type": "stream",
     "text": [
      " 25%|██▌       | 124/495 [01:13<06:30,  1.05s/it]"
     ]
    },
    {
     "name": "stdout",
     "output_type": "stream",
     "text": [
      "No data returned for CXO.\n"
     ]
    },
    {
     "name": "stderr",
     "output_type": "stream",
     "text": [
      " 27%|██▋       | 134/495 [01:18<04:33,  1.32it/s]"
     ]
    },
    {
     "name": "stdout",
     "output_type": "stream",
     "text": [
      "No data returned for DISCA.\n"
     ]
    },
    {
     "name": "stderr",
     "output_type": "stream",
     "text": [
      " 27%|██▋       | 135/495 [01:19<05:35,  1.07it/s]"
     ]
    },
    {
     "name": "stdout",
     "output_type": "stream",
     "text": [
      "No data returned for DISCK.\n"
     ]
    },
    {
     "name": "stderr",
     "output_type": "stream",
     "text": [
      " 27%|██▋       | 136/495 [01:21<06:57,  1.16s/it]"
     ]
    },
    {
     "name": "stdout",
     "output_type": "stream",
     "text": [
      "No data returned for DISH.\n"
     ]
    },
    {
     "name": "stderr",
     "output_type": "stream",
     "text": [
      " 28%|██▊       | 140/495 [01:22<03:00,  1.97it/s]"
     ]
    },
    {
     "name": "stdout",
     "output_type": "stream",
     "text": [
      "$DPS: possibly delisted; No price data found  (1d 2013-07-01 00:00:00 -> 2017-06-30 00:00:00)\n",
      "No data returned for DPS.\n"
     ]
    },
    {
     "name": "stderr",
     "output_type": "stream",
     "text": [
      " 28%|██▊       | 141/495 [01:24<05:16,  1.12it/s]"
     ]
    },
    {
     "name": "stdout",
     "output_type": "stream",
     "text": [
      "No data returned for DRE.\n"
     ]
    },
    {
     "name": "stderr",
     "output_type": "stream",
     "text": [
      " 33%|███▎      | 164/495 [01:34<04:20,  1.27it/s]"
     ]
    },
    {
     "name": "stdout",
     "output_type": "stream",
     "text": [
      "No data returned for ETFC.\n"
     ]
    },
    {
     "name": "stderr",
     "output_type": "stream",
     "text": [
      " 35%|███▌      | 175/495 [01:40<04:07,  1.29it/s]"
     ]
    },
    {
     "name": "stdout",
     "output_type": "stream",
     "text": [
      "No data returned for FB.\n"
     ]
    },
    {
     "name": "stderr",
     "output_type": "stream",
     "text": [
      " 36%|███▌      | 176/495 [01:42<06:16,  1.18s/it]"
     ]
    },
    {
     "name": "stdout",
     "output_type": "stream",
     "text": [
      "No data returned for FBHS.\n"
     ]
    },
    {
     "name": "stderr",
     "output_type": "stream",
     "text": [
      " 37%|███▋      | 182/495 [01:46<05:47,  1.11s/it]"
     ]
    },
    {
     "name": "stdout",
     "output_type": "stream",
     "text": [
      "No data returned for FISV.\n"
     ]
    },
    {
     "name": "stderr",
     "output_type": "stream",
     "text": [
      " 37%|███▋      | 185/495 [01:49<05:13,  1.01s/it]"
     ]
    },
    {
     "name": "stdout",
     "output_type": "stream",
     "text": [
      "No data returned for FLIR.\n"
     ]
    },
    {
     "name": "stderr",
     "output_type": "stream",
     "text": [
      " 38%|███▊      | 189/495 [01:52<05:15,  1.03s/it]"
     ]
    },
    {
     "name": "stdout",
     "output_type": "stream",
     "text": [
      "No data returned for FOX.\n"
     ]
    },
    {
     "name": "stderr",
     "output_type": "stream",
     "text": [
      " 38%|███▊      | 190/495 [01:54<06:08,  1.21s/it]"
     ]
    },
    {
     "name": "stdout",
     "output_type": "stream",
     "text": [
      "No data returned for FOXA.\n"
     ]
    },
    {
     "name": "stderr",
     "output_type": "stream",
     "text": [
      " 40%|███▉      | 196/495 [01:56<02:10,  2.28it/s]"
     ]
    },
    {
     "name": "stdout",
     "output_type": "stream",
     "text": [
      "$GGP: possibly delisted; No price data found  (1d 2013-07-01 00:00:00 -> 2017-06-30 00:00:00)\n",
      "No data returned for GGP.\n"
     ]
    },
    {
     "name": "stderr",
     "output_type": "stream",
     "text": [
      " 43%|████▎     | 215/495 [02:02<01:20,  3.49it/s]"
     ]
    },
    {
     "name": "stdout",
     "output_type": "stream",
     "text": [
      "$HCN: possibly delisted; No price data found  (1d 2013-07-01 00:00:00 -> 2017-06-30 00:00:00)\n",
      "No data returned for HCN.\n"
     ]
    },
    {
     "name": "stderr",
     "output_type": "stream",
     "text": [
      " 44%|████▎     | 216/495 [02:04<02:59,  1.56it/s]"
     ]
    },
    {
     "name": "stdout",
     "output_type": "stream",
     "text": [
      "No data returned for HCP.\n"
     ]
    },
    {
     "name": "stderr",
     "output_type": "stream",
     "text": [
      " 46%|████▋     | 229/495 [02:10<03:18,  1.34it/s]"
     ]
    },
    {
     "name": "stdout",
     "output_type": "stream",
     "text": [
      "No data returned for HRS.\n"
     ]
    },
    {
     "name": "stderr",
     "output_type": "stream",
     "text": [
      " 48%|████▊     | 240/495 [02:15<03:44,  1.13it/s]"
     ]
    },
    {
     "name": "stdout",
     "output_type": "stream",
     "text": [
      "No data returned for INFO.\n"
     ]
    },
    {
     "name": "stderr",
     "output_type": "stream",
     "text": [
      " 51%|█████     | 253/495 [02:21<03:03,  1.32it/s]"
     ]
    },
    {
     "name": "stdout",
     "output_type": "stream",
     "text": [
      "No data returned for JEC.\n"
     ]
    },
    {
     "name": "stderr",
     "output_type": "stream",
     "text": [
      " 54%|█████▍    | 267/495 [02:26<01:07,  3.37it/s]"
     ]
    },
    {
     "name": "stdout",
     "output_type": "stream",
     "text": [
      "$KORS: possibly delisted; No price data found  (1d 2013-07-01 00:00:00 -> 2017-06-30 00:00:00)\n",
      "No data returned for KORS.\n"
     ]
    },
    {
     "name": "stderr",
     "output_type": "stream",
     "text": [
      " 55%|█████▍    | 270/495 [02:28<02:57,  1.27it/s]"
     ]
    },
    {
     "name": "stdout",
     "output_type": "stream",
     "text": [
      "No data returned for KSU.\n"
     ]
    },
    {
     "name": "stderr",
     "output_type": "stream",
     "text": [
      " 55%|█████▍    | 272/495 [02:31<03:37,  1.03it/s]"
     ]
    },
    {
     "name": "stdout",
     "output_type": "stream",
     "text": [
      "No data returned for LB.\n"
     ]
    },
    {
     "name": "stderr",
     "output_type": "stream",
     "text": [
      " 56%|█████▌    | 277/495 [02:34<03:05,  1.17it/s]"
     ]
    },
    {
     "name": "stdout",
     "output_type": "stream",
     "text": [
      "No data returned for LLL.\n"
     ]
    },
    {
     "name": "stderr",
     "output_type": "stream",
     "text": [
      " 57%|█████▋    | 284/495 [02:36<01:05,  3.21it/s]"
     ]
    },
    {
     "name": "stdout",
     "output_type": "stream",
     "text": [
      "$LUK: possibly delisted; No price data found  (1d 2013-07-01 00:00:00 -> 2017-06-30 00:00:00)No data returned for LUK.\n",
      "\n"
     ]
    },
    {
     "name": "stderr",
     "output_type": "stream",
     "text": [
      " 58%|█████▊    | 286/495 [02:36<00:57,  3.61it/s]"
     ]
    },
    {
     "name": "stdout",
     "output_type": "stream",
     "text": [
      "$LVLT: possibly delisted; No price data found  (1d 2013-07-01 00:00:00 -> 2017-06-30 00:00:00)\n",
      "No data returned for LVLT.\n"
     ]
    },
    {
     "name": "stderr",
     "output_type": "stream",
     "text": [
      " 62%|██████▏   | 309/495 [02:46<02:39,  1.16it/s]"
     ]
    },
    {
     "name": "stdout",
     "output_type": "stream",
     "text": [
      "No data returned for MON.\n"
     ]
    },
    {
     "name": "stderr",
     "output_type": "stream",
     "text": [
      " 65%|██████▍   | 320/495 [02:52<02:39,  1.10it/s]"
     ]
    },
    {
     "name": "stdout",
     "output_type": "stream",
     "text": [
      "No data returned for MYL.\n"
     ]
    },
    {
     "name": "stderr",
     "output_type": "stream",
     "text": [
      " 65%|██████▌   | 322/495 [02:54<02:48,  1.03it/s]"
     ]
    },
    {
     "name": "stdout",
     "output_type": "stream",
     "text": [
      "No data returned for NBL.\n"
     ]
    },
    {
     "name": "stderr",
     "output_type": "stream",
     "text": [
      " 67%|██████▋   | 330/495 [02:58<02:29,  1.10it/s]"
     ]
    },
    {
     "name": "stdout",
     "output_type": "stream",
     "text": [
      "No data returned for NLSN.\n"
     ]
    },
    {
     "name": "stderr",
     "output_type": "stream",
     "text": [
      " 71%|███████   | 349/495 [03:07<02:01,  1.20it/s]"
     ]
    },
    {
     "name": "stdout",
     "output_type": "stream",
     "text": [
      "No data returned for PBCT.\n"
     ]
    },
    {
     "name": "stderr",
     "output_type": "stream",
     "text": [
      " 73%|███████▎  | 362/495 [03:14<02:05,  1.06it/s]"
     ]
    },
    {
     "name": "stdout",
     "output_type": "stream",
     "text": [
      "No data returned for PKI.\n"
     ]
    },
    {
     "name": "stderr",
     "output_type": "stream",
     "text": [
      " 76%|███████▌  | 376/495 [03:21<01:33,  1.27it/s]"
     ]
    },
    {
     "name": "stdout",
     "output_type": "stream",
     "text": [
      "No data returned for PX.\n"
     ]
    },
    {
     "name": "stderr",
     "output_type": "stream",
     "text": [
      " 76%|███████▌  | 377/495 [03:22<02:00,  1.02s/it]"
     ]
    },
    {
     "name": "stdout",
     "output_type": "stream",
     "text": [
      "No data returned for PXD.\n"
     ]
    },
    {
     "name": "stderr",
     "output_type": "stream",
     "text": [
      " 77%|███████▋  | 382/495 [03:25<01:39,  1.14it/s]"
     ]
    },
    {
     "name": "stdout",
     "output_type": "stream",
     "text": [
      "No data returned for RE.\n"
     ]
    },
    {
     "name": "stderr",
     "output_type": "stream",
     "text": [
      " 78%|███████▊  | 387/495 [03:28<01:27,  1.24it/s]"
     ]
    },
    {
     "name": "stdout",
     "output_type": "stream",
     "text": [
      "No data returned for RHT.\n"
     ]
    },
    {
     "name": "stderr",
     "output_type": "stream",
     "text": [
      " 80%|████████  | 396/495 [03:33<01:18,  1.26it/s]"
     ]
    },
    {
     "name": "stdout",
     "output_type": "stream",
     "text": [
      "No data returned for RTN.\n"
     ]
    },
    {
     "name": "stderr",
     "output_type": "stream",
     "text": [
      " 83%|████████▎ | 413/495 [03:39<00:23,  3.48it/s]"
     ]
    },
    {
     "name": "stdout",
     "output_type": "stream",
     "text": [
      "$SPLS: possibly delisted; No price data found  (1d 2013-07-01 00:00:00 -> 2017-06-30 00:00:00)\n",
      "No data returned for SPLS.\n"
     ]
    },
    {
     "name": "stderr",
     "output_type": "stream",
     "text": [
      " 84%|████████▍ | 416/495 [03:41<00:53,  1.47it/s]"
     ]
    },
    {
     "name": "stdout",
     "output_type": "stream",
     "text": [
      "No data returned for STI.\n"
     ]
    },
    {
     "name": "stderr",
     "output_type": "stream",
     "text": [
      " 86%|████████▌ | 424/495 [03:45<00:58,  1.21it/s]"
     ]
    },
    {
     "name": "stdout",
     "output_type": "stream",
     "text": [
      "No data returned for SYMC.\n"
     ]
    },
    {
     "name": "stderr",
     "output_type": "stream",
     "text": [
      " 87%|████████▋ | 431/495 [03:49<00:47,  1.33it/s]"
     ]
    },
    {
     "name": "stdout",
     "output_type": "stream",
     "text": [
      "No data returned for TIF.\n"
     ]
    },
    {
     "name": "stderr",
     "output_type": "stream",
     "text": [
      " 87%|████████▋ | 433/495 [03:51<00:57,  1.09it/s]"
     ]
    },
    {
     "name": "stdout",
     "output_type": "stream",
     "text": [
      "No data returned for TMK.\n"
     ]
    },
    {
     "name": "stderr",
     "output_type": "stream",
     "text": [
      " 89%|████████▉ | 440/495 [03:55<00:50,  1.08it/s]"
     ]
    },
    {
     "name": "stdout",
     "output_type": "stream",
     "text": [
      "No data returned for TSS.\n"
     ]
    },
    {
     "name": "stderr",
     "output_type": "stream",
     "text": [
      " 92%|█████████▏| 456/495 [04:02<00:35,  1.11it/s]"
     ]
    },
    {
     "name": "stdout",
     "output_type": "stream",
     "text": [
      "No data returned for UTX.\n"
     ]
    },
    {
     "name": "stderr",
     "output_type": "stream",
     "text": [
      " 93%|█████████▎| 458/495 [04:04<00:35,  1.05it/s]"
     ]
    },
    {
     "name": "stdout",
     "output_type": "stream",
     "text": [
      "No data returned for VAR.\n"
     ]
    },
    {
     "name": "stderr",
     "output_type": "stream",
     "text": [
      " 93%|█████████▎| 460/495 [04:06<00:36,  1.05s/it]"
     ]
    },
    {
     "name": "stdout",
     "output_type": "stream",
     "text": [
      "No data returned for VIAB.\n"
     ]
    },
    {
     "name": "stderr",
     "output_type": "stream",
     "text": [
      " 96%|█████████▌| 475/495 [04:13<00:15,  1.29it/s]"
     ]
    },
    {
     "name": "stdout",
     "output_type": "stream",
     "text": [
      "No data returned for WLTW.\n"
     ]
    },
    {
     "name": "stderr",
     "output_type": "stream",
     "text": [
      " 97%|█████████▋| 482/495 [04:15<00:04,  2.73it/s]"
     ]
    },
    {
     "name": "stdout",
     "output_type": "stream",
     "text": [
      "$WYN: possibly delisted; No price data found  (1d 2013-07-01 00:00:00 -> 2017-06-30 00:00:00)\n",
      "No data returned for WYN.\n"
     ]
    },
    {
     "name": "stderr",
     "output_type": "stream",
     "text": [
      " 98%|█████████▊| 484/495 [04:17<00:08,  1.29it/s]"
     ]
    },
    {
     "name": "stdout",
     "output_type": "stream",
     "text": [
      "No data returned for XEC.\n"
     ]
    },
    {
     "name": "stderr",
     "output_type": "stream",
     "text": [
      " 98%|█████████▊| 486/495 [04:20<00:09,  1.07s/it]"
     ]
    },
    {
     "name": "stdout",
     "output_type": "stream",
     "text": [
      "No data returned for XL.\n"
     ]
    },
    {
     "name": "stderr",
     "output_type": "stream",
     "text": [
      " 98%|█████████▊| 487/495 [04:21<00:10,  1.28s/it]"
     ]
    },
    {
     "name": "stdout",
     "output_type": "stream",
     "text": [
      "No data returned for XLNX.\n"
     ]
    },
    {
     "name": "stderr",
     "output_type": "stream",
     "text": [
      "100%|██████████| 495/495 [04:24<00:00,  1.87it/s]\n"
     ]
    }
   ],
   "source": [
    "import pandas as pd\n",
    "import yfinance as yf\n",
    "import tqdm\n",
    "import logging\n",
    "import os\n",
    "from zipline.utils.calendar_utils import get_calendar\n",
    "# Set up logging to capture errors\n",
    "logging.basicConfig(filename='download_errors.log', level=logging.ERROR)\n",
    "\n",
    "# Load CSV data\n",
    "df = pd.read_csv('https://raw.githubusercontent.com/rbpal/01-qt-project-03-smart-beta-portfolio-optimization/main/eod-quotemedia.csv', index_col=False)\n",
    "\n",
    "# Convert 'date' column to datetime if it's not already\n",
    "df['date'] = pd.to_datetime(df['date'])\n",
    "\n",
    "# Define output directory\n",
    "output_dir = '../../Data/data/eod-quotemedia/daily'\n",
    "os.makedirs(output_dir, exist_ok=True)\n",
    "\n",
    "start_session = pd.Timestamp('2013-07-01')\n",
    "end_session = pd.Timestamp('2017-06-30')\n",
    "\n",
    "# Get the calendar for the NYSE (or any other exchange you are using)\n",
    "calendar = get_calendar('NYSE')\n",
    "\n",
    "# Get the sessions in the specified range\n",
    "sessions = calendar.sessions_in_range(start_session, end_session)\n",
    "\n",
    "tickers_to_keep = []\n",
    "# Group by ticker and process each group\n",
    "for ticker, group in tqdm.tqdm(df.groupby('ticker')):\n",
    "    # Ensure 'date' is sorted and in datetime format\n",
    "    group = group.sort_values('date')\n",
    "    \n",
    "    # Get the start and end dates for this ticker\n",
    "    start_session = pd.Timestamp('2013-07-01')\n",
    "    end_session = pd.Timestamp('2017-06-30')\n",
    "    \n",
    "    try:\n",
    "        # Download data from yfinance\n",
    "        dat = yf.download(ticker, start=start_session, end=end_session, progress=False)\n",
    "        \n",
    "        # Check if data is returned\n",
    "        if dat.empty:\n",
    "            print(f\"No data returned for {ticker}.\")\n",
    "            continue\n",
    "        # ticker_data = dat.dropna()\n",
    "        trading_days = len(sessions)\n",
    "        if dat.shape[0] == trading_days-1:\n",
    "            \n",
    "            # dat['country'] = 'US'\n",
    "            # Rename columns to match expected format\n",
    "            dat.columns = ['open', 'high', 'low', 'close', 'adj close', 'volume']\n",
    "            \n",
    "            # Rename index and ensure it's in datetime format\n",
    "            dat.index.name = 'date'\n",
    "            dat.index = dat.index.tz_localize(None)  # Reve timezone if needed\n",
    "            \n",
    "            # Write data to a CSV file with the ticker name\n",
    "            dat.to_csv(f'{output_dir}/{ticker}.csv', index=True)\n",
    "\n",
    "    except Exception as e:\n",
    "        # Log and print errors\n",
    "        print(f\"Error processing {ticker}: {e}\")\n",
    "        logging.error(f\"Error processing {ticker}: {e}\")\n",
    "\n",
    "    # Break statement is for debugging; remove in production\n"
   ]
  },
  {
   "cell_type": "code",
   "execution_count": 15,
   "metadata": {},
   "outputs": [
    {
     "name": "stdout",
     "output_type": "stream",
     "text": [
      "Bundle registration and ingestion completed.\n"
     ]
    },
    {
     "name": "stderr",
     "output_type": "stream",
     "text": [
      "/tmp/ipykernel_17919/1850159331.py:17: UserWarning: Overwriting bundle with name 'eod-quotemedia'\n",
      "  register(\n"
     ]
    }
   ],
   "source": [
    "# import pandas as pd\n",
    "# from zipline.data.bundles import register, ingest\n",
    "# from zipline.data.bundles.csvdir import csvdir_equities\n",
    "# import logging\n",
    "\n",
    "# # Set up logging to capture errors\n",
    "# logging.basicConfig(filename='bundle_errors.log', level=logging.ERROR)\n",
    "\n",
    "# # Define the bundle name and session dates\n",
    "# # Ensure these timestamps are timezone-naive or all timezone-aware (consistent with your data)\n",
    "# start_session = pd.Timestamp('2013-07-01')  # Timezone-naive\n",
    "# end_session = pd.Timestamp('2017-06-30')    # Timezone-naive\n",
    "\n",
    "\n",
    "# try:\n",
    "#     # Register the bundle\n",
    "#     register(\n",
    "#         'eod-quotemedia',\n",
    "#         csvdir_equities(\n",
    "#             ['daily'],  # This specifies the frequency directory\n",
    "#             '/home/ankit/AI_for_trading/Data/data/eod-quotemedia/'  # Path to the directory containing data\n",
    "#         ),\n",
    "#         calendar_name='XNYS',  # US equities\n",
    "#         start_session=start_session,\n",
    "#         end_session=end_session\n",
    "#     )\n",
    "\n",
    "#     # Ingest the bundle\n",
    "#     # ingest('eod-quotemedia')\n",
    "\n",
    "#     print(\"Bundle registration and ingestion completed.\")\n",
    "\n",
    "# except Exception as e:\n",
    "#     # Log and print errors\n",
    "#     print(f\"Error during bundle registration or ingestion: {e}\")\n",
    "#     logging.error(f\"Error during bundle registration or ingestion: {e}\")\n"
   ]
  },
  {
   "cell_type": "markdown",
   "metadata": {},
   "source": [
    "# Building an Empty Pipeline\n",
    "\n",
    "Once we have loaded our data, we can start building our Zipline pipeline. We begin by creating an empty Pipeline object using Zipline's `Pipeline` class. A Pipeline object represents a collection of named expressions to be compiled and executed by a Pipeline Engine. The `Pipeline(columns=None, screen=None)` class takes two optional parameters, `columns` and `screen`. The `columns` parameter is a dictionary used to indicate the intial columns to use, and the `screen` parameter is used to setup a screen to exclude unwanted data. \n",
    "\n",
    "In the code below we will create a `screen` for our pipeline using Zipline's built-in `.AverageDollarVolume()` class. We will use the `.AverageDollarVolume()` class to produce a 60-day Average Dollar Volume of closing prices for every stock in our universe. We then use the `.top(10)` attribute to specify that we want to filter down our universe each day to just the top 10 assets. Therefore, this screen will act as a filter to exclude data from our stock universe each day. The average dollar volume is a good first pass filter to avoid illiquid assets."
   ]
  },
  {
   "cell_type": "code",
   "execution_count": 1,
   "metadata": {},
   "outputs": [],
   "source": [
    "from zipline.pipeline import Pipeline\n",
    "from zipline.pipeline.factors import AverageDollarVolume\n",
    "from zipline.pipeline.domain import US_EQUITIES\n",
    "\n",
    "# Create a screen for our Pipeline\n",
    "universe = AverageDollarVolume(window_length = 60).top(10)\n",
    "\n",
    "# Create an empty Pipeline with the given screen\n",
    "pipeline = Pipeline(screen = universe,domain=US_EQUITIES)"
   ]
  },
  {
   "cell_type": "code",
   "execution_count": 3,
   "metadata": {},
   "outputs": [
    {
     "name": "stderr",
     "output_type": "stream",
     "text": [
      "/tmp/ipykernel_27464/1435627052.py:5: UserWarning: Overwriting bundle with name 'yahoo_NYSE'\n",
      "  register(\n"
     ]
    }
   ],
   "source": [
    "import zipline.data.bundles as bundles\n",
    "\n",
    "from zipline.data.bundles import register, yahoo_NYSE, csvdir\n",
    "\n",
    "register(\n",
    "    'yahoo_NYSE',\n",
    "    yahoo_NYSE.yahoo_NYSE(\n",
    "        tframes=[\"daily\"],\n",
    "        csvdir=\"/home/ankit/AI_for_trading/Data/data/eod-quotemedia/\"\n",
    "    )\n",
    ")\n",
    "\n",
    "bundle_data = bundles.load('yahoo_NYSE')"
   ]
  },
  {
   "cell_type": "code",
   "execution_count": 4,
   "metadata": {},
   "outputs": [
    {
     "data": {
      "image/svg+xml": [
       "<svg xmlns=\"http://www.w3.org/2000/svg\" xmlns:xlink=\"http://www.w3.org/1999/xlink\" width=\"434pt\" height=\"376pt\" viewBox=\"0.00 0.00 434.00 376.00\">\n",
       "<g id=\"graph0\" class=\"graph\" transform=\"scale(1 1) rotate(0) translate(4 372)\">\n",
       "<title>G</title>\n",
       "<polygon fill=\"white\" stroke=\"transparent\" points=\"-4,4 -4,-372 430,-372 430,4 -4,4\"/>\n",
       "<g id=\"clust1\" class=\"cluster\">\n",
       "<title>cluster_Output</title>\n",
       "<polygon fill=\"#ffec8b\" stroke=\"#ffec8b\" points=\"122,-8 122,-85 304,-85 304,-8 122,-8\"/>\n",
       "<text text-anchor=\"middle\" x=\"213\" y=\"-15.8\" font-family=\"Times,serif\" font-size=\"14.00\">Output</text>\n",
       "</g>\n",
       "<g id=\"clust2\" class=\"cluster\">\n",
       "<title>cluster_Input</title>\n",
       "<polygon fill=\"#ffec8b\" stroke=\"#ffec8b\" points=\"8,-268 8,-360 418,-360 418,-268 8,-268\"/>\n",
       "<text text-anchor=\"middle\" x=\"213\" y=\"-344.8\" font-family=\"Times,serif\" font-size=\"14.00\">Input</text>\n",
       "</g>\n",
       "<!-- 139892387830560 -->\n",
       "<g id=\"node1\" class=\"node\">\n",
       "<title>139892387830560</title>\n",
       "<polygon fill=\"#ccebc5\" stroke=\"black\" points=\"295.5,-77 130.5,-77 130.5,-39 295.5,-39 295.5,-77\"/>\n",
       "<text text-anchor=\"start\" x=\"138.5\" y=\"-61.8\" font-family=\"Times,serif\" font-size=\"14.00\">Expression:</text>\n",
       "<text text-anchor=\"start\" x=\"138.5\" y=\"-46.8\" font-family=\"Times,serif\" font-size=\"14.00\">  x_0 &lt;= (1.00E+01)</text>\n",
       "</g>\n",
       "<!-- 139891637756496 -->\n",
       "<g id=\"node2\" class=\"node\">\n",
       "<title>139891637756496</title>\n",
       "<polygon fill=\"#fbb4ae\" stroke=\"black\" points=\"410,-329 222,-329 222,-276 410,-276 410,-329\"/>\n",
       "<text text-anchor=\"start\" x=\"230\" y=\"-313.8\" font-family=\"Times,serif\" font-size=\"14.00\">BoundColumn:</text>\n",
       "<text text-anchor=\"start\" x=\"230\" y=\"-298.8\" font-family=\"Times,serif\" font-size=\"14.00\">  Dataset: EquityPricing</text>\n",
       "<text text-anchor=\"start\" x=\"230\" y=\"-283.8\" font-family=\"Times,serif\" font-size=\"14.00\">  Column: volume</text>\n",
       "</g>\n",
       "<!-- 139892387831520 -->\n",
       "<g id=\"node4\" class=\"node\">\n",
       "<title>139892387831520</title>\n",
       "<polygon fill=\"#b3cde3\" stroke=\"black\" points=\"301,-240 125,-240 125,-202 301,-202 301,-240\"/>\n",
       "<text text-anchor=\"start\" x=\"133\" y=\"-224.8\" font-family=\"Times,serif\" font-size=\"14.00\">AverageDollarVolume:</text>\n",
       "<text text-anchor=\"start\" x=\"133\" y=\"-209.8\" font-family=\"Times,serif\" font-size=\"14.00\">  window_length: 60</text>\n",
       "</g>\n",
       "<!-- 139891637756496&#45;&gt;139892387831520 -->\n",
       "<g id=\"edge4\" class=\"edge\">\n",
       "<title>139891637756496-&gt;139892387831520</title>\n",
       "<path fill=\"none\" stroke=\"black\" d=\"M261.5,-275.81C261.5,-275.81 261.5,-250.25 261.5,-250.25\"/>\n",
       "<polygon fill=\"black\" stroke=\"black\" points=\"265,-250.25 261.5,-240.25 258,-250.25 265,-250.25\"/>\n",
       "</g>\n",
       "<!-- 139891637759184 -->\n",
       "<g id=\"node3\" class=\"node\">\n",
       "<title>139891637759184</title>\n",
       "<polygon fill=\"#fbb4ae\" stroke=\"black\" points=\"204,-329 16,-329 16,-276 204,-276 204,-329\"/>\n",
       "<text text-anchor=\"start\" x=\"24\" y=\"-313.8\" font-family=\"Times,serif\" font-size=\"14.00\">BoundColumn:</text>\n",
       "<text text-anchor=\"start\" x=\"24\" y=\"-298.8\" font-family=\"Times,serif\" font-size=\"14.00\">  Dataset: EquityPricing</text>\n",
       "<text text-anchor=\"start\" x=\"24\" y=\"-283.8\" font-family=\"Times,serif\" font-size=\"14.00\">  Column: close</text>\n",
       "</g>\n",
       "<!-- 139891637759184&#45;&gt;139892387831520 -->\n",
       "<g id=\"edge3\" class=\"edge\">\n",
       "<title>139891637759184-&gt;139892387831520</title>\n",
       "<path fill=\"none\" stroke=\"black\" d=\"M164.5,-275.81C164.5,-275.81 164.5,-250.25 164.5,-250.25\"/>\n",
       "<polygon fill=\"black\" stroke=\"black\" points=\"168,-250.25 164.5,-240.25 161,-250.25 168,-250.25\"/>\n",
       "</g>\n",
       "<!-- 139892387830608 -->\n",
       "<g id=\"node5\" class=\"node\">\n",
       "<title>139892387830608</title>\n",
       "<polygon fill=\"#b3cde3\" stroke=\"black\" points=\"290.5,-166 135.5,-166 135.5,-113 290.5,-113 290.5,-166\"/>\n",
       "<text text-anchor=\"start\" x=\"143.5\" y=\"-150.8\" font-family=\"Times,serif\" font-size=\"14.00\">Rank:</text>\n",
       "<text text-anchor=\"start\" x=\"143.5\" y=\"-135.8\" font-family=\"Times,serif\" font-size=\"14.00\">  method: 'ordinal'</text>\n",
       "<text text-anchor=\"start\" x=\"143.5\" y=\"-120.8\" font-family=\"Times,serif\" font-size=\"14.00\">  mask: AssetExists</text>\n",
       "</g>\n",
       "<!-- 139892387831520&#45;&gt;139892387830608 -->\n",
       "<g id=\"edge2\" class=\"edge\">\n",
       "<title>139892387831520-&gt;139892387830608</title>\n",
       "<path fill=\"none\" stroke=\"black\" d=\"M213,-201.69C213,-201.69 213,-176.08 213,-176.08\"/>\n",
       "<polygon fill=\"black\" stroke=\"black\" points=\"216.5,-176.08 213,-166.08 209.5,-176.08 216.5,-176.08\"/>\n",
       "</g>\n",
       "<!-- 139892387830608&#45;&gt;139892387830560 -->\n",
       "<g id=\"edge1\" class=\"edge\">\n",
       "<title>139892387830608-&gt;139892387830560</title>\n",
       "<path fill=\"none\" stroke=\"black\" d=\"M213,-112.81C213,-112.81 213,-87.25 213,-87.25\"/>\n",
       "<polygon fill=\"black\" stroke=\"black\" points=\"216.5,-87.25 213,-77.25 209.5,-87.25 216.5,-87.25\"/>\n",
       "</g>\n",
       "</g>\n",
       "</svg>"
      ],
      "text/plain": [
       "<IPython.core.display.SVG object>"
      ]
     },
     "execution_count": 4,
     "metadata": {},
     "output_type": "execute_result"
    }
   ],
   "source": [
    "pipeline.show_graph()"
   ]
  },
  {
   "cell_type": "code",
   "execution_count": 5,
   "metadata": {},
   "outputs": [],
   "source": [
    "from zipline.pipeline.loaders import USEquityPricingLoader\n",
    "\n",
    "# Set the dataloader\n",
    "pricing_loader = USEquityPricingLoader(bundle_data.equity_daily_bar_reader, bundle_data.adjustment_reader,fx_reader=None)"
   ]
  },
  {
   "cell_type": "markdown",
   "metadata": {},
   "source": [
    "# Datasets and Dataloaders               \n",
    "\n",
    "One of the features of Zipline's Pipeline is that it separates the actual source of the stock data from the abstract description of that dataset. Therefore, Zipline employs **DataSets** and **Loaders** for those datasets. `DataSets` are just abstract collections of sentinel values describing the columns/types for a particular dataset.  While a `loader` is an object which, given a request for a particular chunk of a dataset, can actually get the requested data. For example, the loader used for the `USEquityPricing` dataset, is the `USEquityPricingLoader` class. The `USEquityPricingLoader` class will delegate the loading of baselines and adjustments to lower-level subsystems that know how to get the pricing data in the default formats used by Zipline (`bcolz` for pricing data, and `SQLite` for split/merger/dividend data). As we saw in the beginning of this notebook, data bundles automatically convert the stock data into `bcolz` and `SQLite` formats. It is important to note that the `USEquityPricingLoader` class can also be used to load daily OHLCV data from other datasets, not just from the `USEquityPricing` dataset. Simliarly, it is also  possible to write different loaders for the same dataset and use those instead of the default loader. Zipline contains lots of other loaders to allow you to load data from different datasets.\n",
    "\n",
    "In the code below, we will use `USEquityPricingLoader(BcolzDailyBarWriter, SQLiteAdjustmentWriter)` to create a loader from a `bcolz` equity pricing directory and a `SQLite` adjustments path. Both the `BcolzDailyBarWriter` and `SQLiteAdjustmentWriter` determine the path of the pricing and adjustment data. Since we will be using the Quotemedia data bundle, we will use the `bundle_data.equity_daily_bar_reader` and the `bundle_data.adjustment_reader` as our `BcolzDailyBarWriter` and `SQLiteAdjustmentWriter`, respectively."
   ]
  },
  {
   "cell_type": "code",
   "execution_count": 6,
   "metadata": {},
   "outputs": [],
   "source": [
    "import zipline.utils.calendar_utils as utils\n",
    "from zipline.pipeline.data import USEquityPricing\n",
    "from zipline.pipeline.engine import SimplePipelineEngine\n",
    "from zipline.data import bundles\n",
    "\n",
    "# Define the function for the get_loader parameter\n",
    "def choose_loader(column):\n",
    "    if column not in USEquityPricing.columns:\n",
    "        raise Exception('Column not in USEquityPricing')\n",
    "    return pricing_loader\n",
    "\n",
    "bundle_data = bundles.load('yahoo_NYSE')\n",
    "# Set the trading calendar\n",
    "trading_calendar = utils.get_calendar('NYSE')\n",
    "\n",
    "# Create a Pipeline engine\n",
    "engine = SimplePipelineEngine(get_loader = choose_loader,\n",
    "                              asset_finder = bundle_data.asset_finder)"
   ]
  },
  {
   "cell_type": "code",
   "execution_count": 9,
   "metadata": {},
   "outputs": [
    {
     "name": "stdout",
     "output_type": "stream",
     "text": [
      "The pipeline output has type: <class 'pandas.core.frame.DataFrame'> \n",
      "\n",
      "Is the pipeline output a MultiIndex Dataframe: True \n",
      "\n",
      "Index Level 0:\n",
      "\n",
      " DatetimeIndex(['2013-07-02', '2013-07-02', '2013-07-02', '2013-07-02',\n",
      "               '2013-07-02', '2013-07-02', '2013-07-02', '2013-07-02',\n",
      "               '2013-07-02', '2013-07-02',\n",
      "               ...\n",
      "               '2017-06-29', '2017-06-29', '2017-06-29', '2017-06-29',\n",
      "               '2017-06-29', '2017-06-29', '2017-06-29', '2017-06-29',\n",
      "               '2017-06-29', '2017-06-29'],\n",
      "              dtype='datetime64[ns]', length=10070, freq=None) \n",
      "\n",
      "Index Level 1:\n",
      "\n",
      " Index([   Equity(3 [AAPL]),    Equity(50 [BAC]),      Equity(62 [C]),\n",
      "        Equity(160 [GOOG]), Equity(161 [GOOGL]),   Equity(207 [JPM]),\n",
      "        Equity(258 [MSFT]),  Equity(283 [ORCL]),   Equity(292 [PFE]),\n",
      "         Equity(400 [XOM]),\n",
      "       ...\n",
      "          Equity(3 [AAPL]),   Equity(33 [AMZN]),    Equity(50 [BAC]),\n",
      "          Equity(155 [GE]),  Equity(160 [GOOG]), Equity(161 [GOOGL]),\n",
      "         Equity(207 [JPM]),  Equity(258 [MSFT]),  Equity(276 [NVDA]),\n",
      "         Equity(390 [WFC])],\n",
      "      dtype='object', length=10070) \n",
      "\n"
     ]
    }
   ],
   "source": [
    "import pandas as pd\n",
    "\n",
    "# Set the start and end dates\n",
    "start_session = pd.Timestamp('2013-07-01')\n",
    "end_session = pd.Timestamp('2017-06-30')\n",
    "\n",
    "start_date = start_session\n",
    "end_date = end_session\n",
    "\n",
    "# Run our pipeline for the given start and end dates\n",
    "pipeline_output = engine.run_pipeline(pipeline, start_date, end_date)\n",
    "\n",
    "# We print information about the pipeline output\n",
    "print('The pipeline output has type:', type(pipeline_output), '\\n')\n",
    "\n",
    "# We print whether the pipeline output is a MultiIndex Dataframe\n",
    "print('Is the pipeline output a MultiIndex Dataframe:', isinstance(pipeline_output.index, pd.MultiIndex), '\\n')\n",
    "\n",
    "# If the pipeline output is a MultiIndex Dataframe we print the two levels of the index\n",
    "if isinstance(pipeline_output.index, pd.MultiIndex):\n",
    "\n",
    "    # We print the index level 0\n",
    "    print('Index Level 0:\\n\\n', pipeline_output.index.get_level_values(0), '\\n')\n",
    "\n",
    "    # We print the index level 1\n",
    "    print('Index Level 1:\\n\\n', pipeline_output.index.get_level_values(1), '\\n')"
   ]
  },
  {
   "cell_type": "code",
   "execution_count": 10,
   "metadata": {},
   "outputs": [
    {
     "data": {
      "text/plain": [
       "[Equity(3 [AAPL]),\n",
       " Equity(50 [BAC]),\n",
       " Equity(62 [C]),\n",
       " Equity(160 [GOOG]),\n",
       " Equity(161 [GOOGL]),\n",
       " Equity(207 [JPM]),\n",
       " Equity(258 [MSFT]),\n",
       " Equity(283 [ORCL]),\n",
       " Equity(292 [PFE]),\n",
       " Equity(400 [XOM]),\n",
       " Equity(3 [AAPL]),\n",
       " Equity(50 [BAC]),\n",
       " Equity(62 [C]),\n",
       " Equity(160 [GOOG]),\n",
       " Equity(161 [GOOGL]),\n",
       " Equity(207 [JPM]),\n",
       " Equity(258 [MSFT]),\n",
       " Equity(283 [ORCL]),\n",
       " Equity(292 [PFE]),\n",
       " Equity(400 [XOM]),\n",
       " Equity(3 [AAPL]),\n",
       " Equity(50 [BAC]),\n",
       " Equity(62 [C]),\n",
       " Equity(160 [GOOG]),\n",
       " Equity(161 [GOOGL]),\n",
       " Equity(207 [JPM]),\n",
       " Equity(258 [MSFT]),\n",
       " Equity(283 [ORCL]),\n",
       " Equity(292 [PFE]),\n",
       " Equity(400 [XOM]),\n",
       " Equity(3 [AAPL]),\n",
       " Equity(50 [BAC]),\n",
       " Equity(62 [C]),\n",
       " Equity(160 [GOOG]),\n",
       " Equity(161 [GOOGL]),\n",
       " Equity(207 [JPM]),\n",
       " Equity(258 [MSFT]),\n",
       " Equity(283 [ORCL]),\n",
       " Equity(292 [PFE]),\n",
       " Equity(400 [XOM]),\n",
       " Equity(3 [AAPL]),\n",
       " Equity(50 [BAC]),\n",
       " Equity(62 [C]),\n",
       " Equity(160 [GOOG]),\n",
       " Equity(161 [GOOGL]),\n",
       " Equity(207 [JPM]),\n",
       " Equity(258 [MSFT]),\n",
       " Equity(283 [ORCL]),\n",
       " Equity(292 [PFE]),\n",
       " Equity(400 [XOM]),\n",
       " Equity(3 [AAPL]),\n",
       " Equity(50 [BAC]),\n",
       " Equity(62 [C]),\n",
       " Equity(160 [GOOG]),\n",
       " Equity(161 [GOOGL]),\n",
       " Equity(207 [JPM]),\n",
       " Equity(258 [MSFT]),\n",
       " Equity(283 [ORCL]),\n",
       " Equity(292 [PFE]),\n",
       " Equity(400 [XOM]),\n",
       " Equity(3 [AAPL]),\n",
       " Equity(50 [BAC]),\n",
       " Equity(62 [C]),\n",
       " Equity(160 [GOOG]),\n",
       " Equity(161 [GOOGL]),\n",
       " Equity(207 [JPM]),\n",
       " Equity(258 [MSFT]),\n",
       " Equity(283 [ORCL]),\n",
       " Equity(292 [PFE]),\n",
       " Equity(400 [XOM]),\n",
       " Equity(3 [AAPL]),\n",
       " Equity(50 [BAC]),\n",
       " Equity(62 [C]),\n",
       " Equity(160 [GOOG]),\n",
       " Equity(161 [GOOGL]),\n",
       " Equity(207 [JPM]),\n",
       " Equity(258 [MSFT]),\n",
       " Equity(283 [ORCL]),\n",
       " Equity(292 [PFE]),\n",
       " Equity(400 [XOM]),\n",
       " Equity(3 [AAPL]),\n",
       " Equity(50 [BAC]),\n",
       " Equity(62 [C]),\n",
       " Equity(160 [GOOG]),\n",
       " Equity(161 [GOOGL]),\n",
       " Equity(207 [JPM]),\n",
       " Equity(258 [MSFT]),\n",
       " Equity(283 [ORCL]),\n",
       " Equity(292 [PFE]),\n",
       " Equity(400 [XOM]),\n",
       " Equity(3 [AAPL]),\n",
       " Equity(50 [BAC]),\n",
       " Equity(62 [C]),\n",
       " Equity(160 [GOOG]),\n",
       " Equity(161 [GOOGL]),\n",
       " Equity(207 [JPM]),\n",
       " Equity(258 [MSFT]),\n",
       " Equity(283 [ORCL]),\n",
       " Equity(292 [PFE]),\n",
       " Equity(400 [XOM]),\n",
       " Equity(3 [AAPL]),\n",
       " Equity(50 [BAC]),\n",
       " Equity(62 [C]),\n",
       " Equity(160 [GOOG]),\n",
       " Equity(161 [GOOGL]),\n",
       " Equity(207 [JPM]),\n",
       " Equity(258 [MSFT]),\n",
       " Equity(283 [ORCL]),\n",
       " Equity(292 [PFE]),\n",
       " Equity(400 [XOM]),\n",
       " Equity(3 [AAPL]),\n",
       " Equity(50 [BAC]),\n",
       " Equity(62 [C]),\n",
       " Equity(160 [GOOG]),\n",
       " Equity(161 [GOOGL]),\n",
       " Equity(207 [JPM]),\n",
       " Equity(258 [MSFT]),\n",
       " Equity(283 [ORCL]),\n",
       " Equity(292 [PFE]),\n",
       " Equity(400 [XOM]),\n",
       " Equity(3 [AAPL]),\n",
       " Equity(50 [BAC]),\n",
       " Equity(62 [C]),\n",
       " Equity(160 [GOOG]),\n",
       " Equity(161 [GOOGL]),\n",
       " Equity(207 [JPM]),\n",
       " Equity(258 [MSFT]),\n",
       " Equity(283 [ORCL]),\n",
       " Equity(292 [PFE]),\n",
       " Equity(400 [XOM]),\n",
       " Equity(3 [AAPL]),\n",
       " Equity(50 [BAC]),\n",
       " Equity(62 [C]),\n",
       " Equity(160 [GOOG]),\n",
       " Equity(161 [GOOGL]),\n",
       " Equity(207 [JPM]),\n",
       " Equity(258 [MSFT]),\n",
       " Equity(283 [ORCL]),\n",
       " Equity(292 [PFE]),\n",
       " Equity(400 [XOM]),\n",
       " Equity(3 [AAPL]),\n",
       " Equity(50 [BAC]),\n",
       " Equity(62 [C]),\n",
       " Equity(160 [GOOG]),\n",
       " Equity(161 [GOOGL]),\n",
       " Equity(207 [JPM]),\n",
       " Equity(258 [MSFT]),\n",
       " Equity(283 [ORCL]),\n",
       " Equity(292 [PFE]),\n",
       " Equity(400 [XOM]),\n",
       " Equity(3 [AAPL]),\n",
       " Equity(50 [BAC]),\n",
       " Equity(62 [C]),\n",
       " Equity(160 [GOOG]),\n",
       " Equity(161 [GOOGL]),\n",
       " Equity(207 [JPM]),\n",
       " Equity(258 [MSFT]),\n",
       " Equity(283 [ORCL]),\n",
       " Equity(292 [PFE]),\n",
       " Equity(400 [XOM]),\n",
       " Equity(3 [AAPL]),\n",
       " Equity(50 [BAC]),\n",
       " Equity(62 [C]),\n",
       " Equity(160 [GOOG]),\n",
       " Equity(161 [GOOGL]),\n",
       " Equity(207 [JPM]),\n",
       " Equity(258 [MSFT]),\n",
       " Equity(283 [ORCL]),\n",
       " Equity(292 [PFE]),\n",
       " Equity(400 [XOM]),\n",
       " Equity(3 [AAPL]),\n",
       " Equity(50 [BAC]),\n",
       " Equity(62 [C]),\n",
       " Equity(160 [GOOG]),\n",
       " Equity(161 [GOOGL]),\n",
       " Equity(194 [INTC]),\n",
       " Equity(207 [JPM]),\n",
       " Equity(258 [MSFT]),\n",
       " Equity(283 [ORCL]),\n",
       " Equity(400 [XOM]),\n",
       " Equity(3 [AAPL]),\n",
       " Equity(50 [BAC]),\n",
       " Equity(62 [C]),\n",
       " Equity(160 [GOOG]),\n",
       " Equity(161 [GOOGL]),\n",
       " Equity(194 [INTC]),\n",
       " Equity(207 [JPM]),\n",
       " Equity(258 [MSFT]),\n",
       " Equity(283 [ORCL]),\n",
       " Equity(400 [XOM]),\n",
       " Equity(3 [AAPL]),\n",
       " Equity(50 [BAC]),\n",
       " Equity(62 [C]),\n",
       " Equity(160 [GOOG]),\n",
       " Equity(161 [GOOGL]),\n",
       " Equity(194 [INTC]),\n",
       " Equity(207 [JPM]),\n",
       " Equity(258 [MSFT]),\n",
       " Equity(292 [PFE]),\n",
       " Equity(400 [XOM]),\n",
       " Equity(3 [AAPL]),\n",
       " Equity(50 [BAC]),\n",
       " Equity(62 [C]),\n",
       " Equity(160 [GOOG]),\n",
       " Equity(161 [GOOGL]),\n",
       " Equity(194 [INTC]),\n",
       " Equity(207 [JPM]),\n",
       " Equity(258 [MSFT]),\n",
       " Equity(292 [PFE]),\n",
       " Equity(400 [XOM]),\n",
       " Equity(3 [AAPL]),\n",
       " Equity(50 [BAC]),\n",
       " Equity(62 [C]),\n",
       " Equity(160 [GOOG]),\n",
       " Equity(161 [GOOGL]),\n",
       " Equity(194 [INTC]),\n",
       " Equity(207 [JPM]),\n",
       " Equity(258 [MSFT]),\n",
       " Equity(292 [PFE]),\n",
       " Equity(400 [XOM]),\n",
       " Equity(3 [AAPL]),\n",
       " Equity(50 [BAC]),\n",
       " Equity(62 [C]),\n",
       " Equity(160 [GOOG]),\n",
       " Equity(161 [GOOGL]),\n",
       " Equity(194 [INTC]),\n",
       " Equity(207 [JPM]),\n",
       " Equity(258 [MSFT]),\n",
       " Equity(292 [PFE]),\n",
       " Equity(400 [XOM]),\n",
       " Equity(3 [AAPL]),\n",
       " Equity(50 [BAC]),\n",
       " Equity(62 [C]),\n",
       " Equity(160 [GOOG]),\n",
       " Equity(161 [GOOGL]),\n",
       " Equity(194 [INTC]),\n",
       " Equity(207 [JPM]),\n",
       " Equity(258 [MSFT]),\n",
       " Equity(292 [PFE]),\n",
       " Equity(400 [XOM]),\n",
       " Equity(3 [AAPL]),\n",
       " Equity(50 [BAC]),\n",
       " Equity(62 [C]),\n",
       " Equity(160 [GOOG]),\n",
       " Equity(161 [GOOGL]),\n",
       " Equity(194 [INTC]),\n",
       " Equity(207 [JPM]),\n",
       " Equity(258 [MSFT]),\n",
       " Equity(292 [PFE]),\n",
       " Equity(400 [XOM]),\n",
       " Equity(3 [AAPL]),\n",
       " Equity(50 [BAC]),\n",
       " Equity(62 [C]),\n",
       " Equity(160 [GOOG]),\n",
       " Equity(161 [GOOGL]),\n",
       " Equity(194 [INTC]),\n",
       " Equity(207 [JPM]),\n",
       " Equity(258 [MSFT]),\n",
       " Equity(292 [PFE]),\n",
       " Equity(400 [XOM]),\n",
       " Equity(3 [AAPL]),\n",
       " Equity(50 [BAC]),\n",
       " Equity(62 [C]),\n",
       " Equity(160 [GOOG]),\n",
       " Equity(161 [GOOGL]),\n",
       " Equity(194 [INTC]),\n",
       " Equity(207 [JPM]),\n",
       " Equity(258 [MSFT]),\n",
       " Equity(292 [PFE]),\n",
       " Equity(400 [XOM]),\n",
       " Equity(3 [AAPL]),\n",
       " Equity(50 [BAC]),\n",
       " Equity(62 [C]),\n",
       " Equity(160 [GOOG]),\n",
       " Equity(161 [GOOGL]),\n",
       " Equity(194 [INTC]),\n",
       " Equity(207 [JPM]),\n",
       " Equity(258 [MSFT]),\n",
       " Equity(292 [PFE]),\n",
       " Equity(400 [XOM]),\n",
       " Equity(3 [AAPL]),\n",
       " Equity(50 [BAC]),\n",
       " Equity(62 [C]),\n",
       " Equity(160 [GOOG]),\n",
       " Equity(161 [GOOGL]),\n",
       " Equity(194 [INTC]),\n",
       " Equity(207 [JPM]),\n",
       " Equity(258 [MSFT]),\n",
       " Equity(292 [PFE]),\n",
       " Equity(400 [XOM]),\n",
       " Equity(3 [AAPL]),\n",
       " Equity(50 [BAC]),\n",
       " Equity(62 [C]),\n",
       " Equity(160 [GOOG]),\n",
       " Equity(161 [GOOGL]),\n",
       " Equity(194 [INTC]),\n",
       " Equity(207 [JPM]),\n",
       " Equity(258 [MSFT]),\n",
       " Equity(292 [PFE]),\n",
       " Equity(400 [XOM]),\n",
       " Equity(3 [AAPL]),\n",
       " Equity(50 [BAC]),\n",
       " Equity(62 [C]),\n",
       " Equity(160 [GOOG]),\n",
       " Equity(161 [GOOGL]),\n",
       " Equity(194 [INTC]),\n",
       " Equity(207 [JPM]),\n",
       " Equity(258 [MSFT]),\n",
       " Equity(292 [PFE]),\n",
       " Equity(400 [XOM]),\n",
       " Equity(3 [AAPL]),\n",
       " Equity(50 [BAC]),\n",
       " Equity(62 [C]),\n",
       " Equity(160 [GOOG]),\n",
       " Equity(161 [GOOGL]),\n",
       " Equity(194 [INTC]),\n",
       " Equity(207 [JPM]),\n",
       " Equity(258 [MSFT]),\n",
       " Equity(292 [PFE]),\n",
       " Equity(400 [XOM]),\n",
       " Equity(3 [AAPL]),\n",
       " Equity(50 [BAC]),\n",
       " Equity(62 [C]),\n",
       " Equity(160 [GOOG]),\n",
       " Equity(161 [GOOGL]),\n",
       " Equity(194 [INTC]),\n",
       " Equity(207 [JPM]),\n",
       " Equity(258 [MSFT]),\n",
       " Equity(292 [PFE]),\n",
       " Equity(400 [XOM]),\n",
       " Equity(3 [AAPL]),\n",
       " Equity(50 [BAC]),\n",
       " Equity(62 [C]),\n",
       " Equity(93 [CSCO]),\n",
       " Equity(160 [GOOG]),\n",
       " Equity(161 [GOOGL]),\n",
       " Equity(194 [INTC]),\n",
       " Equity(207 [JPM]),\n",
       " Equity(258 [MSFT]),\n",
       " Equity(400 [XOM]),\n",
       " Equity(3 [AAPL]),\n",
       " Equity(50 [BAC]),\n",
       " Equity(62 [C]),\n",
       " Equity(93 [CSCO]),\n",
       " Equity(160 [GOOG]),\n",
       " Equity(161 [GOOGL]),\n",
       " Equity(194 [INTC]),\n",
       " Equity(207 [JPM]),\n",
       " Equity(258 [MSFT]),\n",
       " Equity(400 [XOM]),\n",
       " Equity(3 [AAPL]),\n",
       " Equity(50 [BAC]),\n",
       " Equity(62 [C]),\n",
       " Equity(93 [CSCO]),\n",
       " Equity(160 [GOOG]),\n",
       " Equity(161 [GOOGL]),\n",
       " Equity(194 [INTC]),\n",
       " Equity(207 [JPM]),\n",
       " Equity(258 [MSFT]),\n",
       " Equity(400 [XOM]),\n",
       " Equity(3 [AAPL]),\n",
       " Equity(50 [BAC]),\n",
       " Equity(62 [C]),\n",
       " Equity(93 [CSCO]),\n",
       " Equity(160 [GOOG]),\n",
       " Equity(161 [GOOGL]),\n",
       " Equity(194 [INTC]),\n",
       " Equity(207 [JPM]),\n",
       " Equity(258 [MSFT]),\n",
       " Equity(400 [XOM]),\n",
       " Equity(3 [AAPL]),\n",
       " Equity(50 [BAC]),\n",
       " Equity(62 [C]),\n",
       " Equity(93 [CSCO]),\n",
       " Equity(160 [GOOG]),\n",
       " Equity(161 [GOOGL]),\n",
       " Equity(194 [INTC]),\n",
       " Equity(207 [JPM]),\n",
       " Equity(258 [MSFT]),\n",
       " Equity(400 [XOM]),\n",
       " Equity(3 [AAPL]),\n",
       " Equity(50 [BAC]),\n",
       " Equity(62 [C]),\n",
       " Equity(93 [CSCO]),\n",
       " Equity(160 [GOOG]),\n",
       " Equity(161 [GOOGL]),\n",
       " Equity(194 [INTC]),\n",
       " Equity(207 [JPM]),\n",
       " Equity(258 [MSFT]),\n",
       " Equity(400 [XOM]),\n",
       " Equity(3 [AAPL]),\n",
       " Equity(50 [BAC]),\n",
       " Equity(62 [C]),\n",
       " Equity(93 [CSCO]),\n",
       " Equity(160 [GOOG]),\n",
       " Equity(161 [GOOGL]),\n",
       " Equity(194 [INTC]),\n",
       " Equity(207 [JPM]),\n",
       " Equity(258 [MSFT]),\n",
       " Equity(400 [XOM]),\n",
       " Equity(3 [AAPL]),\n",
       " Equity(50 [BAC]),\n",
       " Equity(62 [C]),\n",
       " Equity(93 [CSCO]),\n",
       " Equity(160 [GOOG]),\n",
       " Equity(161 [GOOGL]),\n",
       " Equity(194 [INTC]),\n",
       " Equity(207 [JPM]),\n",
       " Equity(258 [MSFT]),\n",
       " Equity(400 [XOM]),\n",
       " Equity(3 [AAPL]),\n",
       " Equity(50 [BAC]),\n",
       " Equity(62 [C]),\n",
       " Equity(93 [CSCO]),\n",
       " Equity(160 [GOOG]),\n",
       " Equity(161 [GOOGL]),\n",
       " Equity(194 [INTC]),\n",
       " Equity(207 [JPM]),\n",
       " Equity(258 [MSFT]),\n",
       " Equity(400 [XOM]),\n",
       " Equity(3 [AAPL]),\n",
       " Equity(50 [BAC]),\n",
       " Equity(62 [C]),\n",
       " Equity(93 [CSCO]),\n",
       " Equity(160 [GOOG]),\n",
       " Equity(161 [GOOGL]),\n",
       " Equity(194 [INTC]),\n",
       " Equity(207 [JPM]),\n",
       " Equity(258 [MSFT]),\n",
       " Equity(400 [XOM]),\n",
       " Equity(3 [AAPL]),\n",
       " Equity(50 [BAC]),\n",
       " Equity(62 [C]),\n",
       " Equity(93 [CSCO]),\n",
       " Equity(160 [GOOG]),\n",
       " Equity(161 [GOOGL]),\n",
       " Equity(194 [INTC]),\n",
       " Equity(207 [JPM]),\n",
       " Equity(258 [MSFT]),\n",
       " Equity(400 [XOM]),\n",
       " Equity(3 [AAPL]),\n",
       " Equity(50 [BAC]),\n",
       " Equity(62 [C]),\n",
       " Equity(93 [CSCO]),\n",
       " Equity(160 [GOOG]),\n",
       " Equity(161 [GOOGL]),\n",
       " Equity(194 [INTC]),\n",
       " Equity(207 [JPM]),\n",
       " Equity(258 [MSFT]),\n",
       " Equity(400 [XOM]),\n",
       " Equity(3 [AAPL]),\n",
       " Equity(50 [BAC]),\n",
       " Equity(62 [C]),\n",
       " Equity(93 [CSCO]),\n",
       " Equity(160 [GOOG]),\n",
       " Equity(161 [GOOGL]),\n",
       " Equity(194 [INTC]),\n",
       " Equity(207 [JPM]),\n",
       " Equity(258 [MSFT]),\n",
       " Equity(400 [XOM]),\n",
       " Equity(3 [AAPL]),\n",
       " Equity(50 [BAC]),\n",
       " Equity(62 [C]),\n",
       " Equity(93 [CSCO]),\n",
       " Equity(160 [GOOG]),\n",
       " Equity(161 [GOOGL]),\n",
       " Equity(194 [INTC]),\n",
       " Equity(207 [JPM]),\n",
       " Equity(258 [MSFT]),\n",
       " Equity(400 [XOM]),\n",
       " Equity(3 [AAPL]),\n",
       " Equity(50 [BAC]),\n",
       " Equity(62 [C]),\n",
       " Equity(93 [CSCO]),\n",
       " Equity(160 [GOOG]),\n",
       " Equity(161 [GOOGL]),\n",
       " Equity(194 [INTC]),\n",
       " Equity(207 [JPM]),\n",
       " Equity(258 [MSFT]),\n",
       " Equity(400 [XOM]),\n",
       " Equity(3 [AAPL]),\n",
       " Equity(50 [BAC]),\n",
       " Equity(62 [C]),\n",
       " Equity(93 [CSCO]),\n",
       " Equity(160 [GOOG]),\n",
       " Equity(161 [GOOGL]),\n",
       " Equity(194 [INTC]),\n",
       " Equity(207 [JPM]),\n",
       " Equity(258 [MSFT]),\n",
       " Equity(400 [XOM]),\n",
       " Equity(3 [AAPL]),\n",
       " Equity(50 [BAC]),\n",
       " Equity(62 [C]),\n",
       " Equity(93 [CSCO]),\n",
       " Equity(160 [GOOG]),\n",
       " Equity(161 [GOOGL]),\n",
       " Equity(194 [INTC]),\n",
       " Equity(207 [JPM]),\n",
       " Equity(258 [MSFT]),\n",
       " Equity(400 [XOM]),\n",
       " Equity(3 [AAPL]),\n",
       " Equity(50 [BAC]),\n",
       " Equity(62 [C]),\n",
       " Equity(93 [CSCO]),\n",
       " Equity(160 [GOOG]),\n",
       " Equity(161 [GOOGL]),\n",
       " Equity(194 [INTC]),\n",
       " Equity(207 [JPM]),\n",
       " Equity(258 [MSFT]),\n",
       " Equity(400 [XOM]),\n",
       " Equity(3 [AAPL]),\n",
       " Equity(50 [BAC]),\n",
       " Equity(62 [C]),\n",
       " Equity(93 [CSCO]),\n",
       " Equity(160 [GOOG]),\n",
       " Equity(161 [GOOGL]),\n",
       " Equity(194 [INTC]),\n",
       " Equity(207 [JPM]),\n",
       " Equity(258 [MSFT]),\n",
       " Equity(400 [XOM]),\n",
       " Equity(3 [AAPL]),\n",
       " Equity(50 [BAC]),\n",
       " Equity(62 [C]),\n",
       " Equity(93 [CSCO]),\n",
       " Equity(160 [GOOG]),\n",
       " Equity(161 [GOOGL]),\n",
       " Equity(194 [INTC]),\n",
       " Equity(207 [JPM]),\n",
       " Equity(258 [MSFT]),\n",
       " Equity(400 [XOM]),\n",
       " Equity(3 [AAPL]),\n",
       " Equity(50 [BAC]),\n",
       " Equity(62 [C]),\n",
       " Equity(93 [CSCO]),\n",
       " Equity(160 [GOOG]),\n",
       " Equity(161 [GOOGL]),\n",
       " Equity(194 [INTC]),\n",
       " Equity(207 [JPM]),\n",
       " Equity(258 [MSFT]),\n",
       " Equity(400 [XOM]),\n",
       " Equity(3 [AAPL]),\n",
       " Equity(50 [BAC]),\n",
       " Equity(62 [C]),\n",
       " Equity(93 [CSCO]),\n",
       " Equity(160 [GOOG]),\n",
       " Equity(161 [GOOGL]),\n",
       " Equity(194 [INTC]),\n",
       " Equity(207 [JPM]),\n",
       " Equity(258 [MSFT]),\n",
       " Equity(400 [XOM]),\n",
       " Equity(3 [AAPL]),\n",
       " Equity(50 [BAC]),\n",
       " Equity(62 [C]),\n",
       " Equity(93 [CSCO]),\n",
       " Equity(160 [GOOG]),\n",
       " Equity(161 [GOOGL]),\n",
       " Equity(194 [INTC]),\n",
       " Equity(207 [JPM]),\n",
       " Equity(258 [MSFT]),\n",
       " Equity(400 [XOM]),\n",
       " Equity(3 [AAPL]),\n",
       " Equity(50 [BAC]),\n",
       " Equity(62 [C]),\n",
       " Equity(93 [CSCO]),\n",
       " Equity(160 [GOOG]),\n",
       " Equity(161 [GOOGL]),\n",
       " Equity(194 [INTC]),\n",
       " Equity(207 [JPM]),\n",
       " Equity(258 [MSFT]),\n",
       " Equity(400 [XOM]),\n",
       " Equity(3 [AAPL]),\n",
       " Equity(50 [BAC]),\n",
       " Equity(62 [C]),\n",
       " Equity(93 [CSCO]),\n",
       " Equity(160 [GOOG]),\n",
       " Equity(161 [GOOGL]),\n",
       " Equity(194 [INTC]),\n",
       " Equity(207 [JPM]),\n",
       " Equity(258 [MSFT]),\n",
       " Equity(400 [XOM]),\n",
       " Equity(3 [AAPL]),\n",
       " Equity(50 [BAC]),\n",
       " Equity(62 [C]),\n",
       " Equity(160 [GOOG]),\n",
       " Equity(161 [GOOGL]),\n",
       " Equity(194 [INTC]),\n",
       " Equity(207 [JPM]),\n",
       " Equity(258 [MSFT]),\n",
       " Equity(266 [NFLX]),\n",
       " Equity(400 [XOM]),\n",
       " Equity(3 [AAPL]),\n",
       " Equity(50 [BAC]),\n",
       " Equity(62 [C]),\n",
       " Equity(160 [GOOG]),\n",
       " Equity(161 [GOOGL]),\n",
       " Equity(194 [INTC]),\n",
       " Equity(207 [JPM]),\n",
       " Equity(258 [MSFT]),\n",
       " Equity(266 [NFLX]),\n",
       " Equity(400 [XOM]),\n",
       " Equity(3 [AAPL]),\n",
       " Equity(50 [BAC]),\n",
       " Equity(62 [C]),\n",
       " Equity(160 [GOOG]),\n",
       " Equity(161 [GOOGL]),\n",
       " Equity(194 [INTC]),\n",
       " Equity(207 [JPM]),\n",
       " Equity(258 [MSFT]),\n",
       " Equity(266 [NFLX]),\n",
       " Equity(400 [XOM]),\n",
       " Equity(3 [AAPL]),\n",
       " Equity(50 [BAC]),\n",
       " Equity(62 [C]),\n",
       " Equity(93 [CSCO]),\n",
       " Equity(160 [GOOG]),\n",
       " Equity(161 [GOOGL]),\n",
       " Equity(194 [INTC]),\n",
       " Equity(207 [JPM]),\n",
       " Equity(258 [MSFT]),\n",
       " Equity(400 [XOM]),\n",
       " Equity(3 [AAPL]),\n",
       " Equity(50 [BAC]),\n",
       " Equity(62 [C]),\n",
       " Equity(93 [CSCO]),\n",
       " Equity(160 [GOOG]),\n",
       " Equity(161 [GOOGL]),\n",
       " Equity(194 [INTC]),\n",
       " Equity(207 [JPM]),\n",
       " Equity(258 [MSFT]),\n",
       " Equity(400 [XOM]),\n",
       " Equity(3 [AAPL]),\n",
       " Equity(50 [BAC]),\n",
       " Equity(62 [C]),\n",
       " Equity(93 [CSCO]),\n",
       " Equity(160 [GOOG]),\n",
       " Equity(161 [GOOGL]),\n",
       " Equity(194 [INTC]),\n",
       " Equity(207 [JPM]),\n",
       " Equity(258 [MSFT]),\n",
       " Equity(400 [XOM]),\n",
       " Equity(3 [AAPL]),\n",
       " Equity(50 [BAC]),\n",
       " Equity(62 [C]),\n",
       " Equity(93 [CSCO]),\n",
       " Equity(160 [GOOG]),\n",
       " Equity(161 [GOOGL]),\n",
       " Equity(207 [JPM]),\n",
       " Equity(258 [MSFT]),\n",
       " Equity(266 [NFLX]),\n",
       " Equity(400 [XOM]),\n",
       " Equity(3 [AAPL]),\n",
       " Equity(50 [BAC]),\n",
       " Equity(62 [C]),\n",
       " Equity(93 [CSCO]),\n",
       " Equity(160 [GOOG]),\n",
       " Equity(161 [GOOGL]),\n",
       " Equity(207 [JPM]),\n",
       " Equity(258 [MSFT]),\n",
       " Equity(266 [NFLX]),\n",
       " Equity(400 [XOM]),\n",
       " Equity(3 [AAPL]),\n",
       " Equity(50 [BAC]),\n",
       " Equity(62 [C]),\n",
       " Equity(93 [CSCO]),\n",
       " Equity(160 [GOOG]),\n",
       " Equity(161 [GOOGL]),\n",
       " Equity(207 [JPM]),\n",
       " Equity(258 [MSFT]),\n",
       " Equity(266 [NFLX]),\n",
       " Equity(400 [XOM]),\n",
       " Equity(3 [AAPL]),\n",
       " Equity(50 [BAC]),\n",
       " Equity(62 [C]),\n",
       " Equity(93 [CSCO]),\n",
       " Equity(160 [GOOG]),\n",
       " Equity(161 [GOOGL]),\n",
       " Equity(207 [JPM]),\n",
       " Equity(258 [MSFT]),\n",
       " Equity(266 [NFLX]),\n",
       " Equity(400 [XOM]),\n",
       " Equity(3 [AAPL]),\n",
       " Equity(50 [BAC]),\n",
       " Equity(62 [C]),\n",
       " Equity(93 [CSCO]),\n",
       " Equity(160 [GOOG]),\n",
       " Equity(161 [GOOGL]),\n",
       " Equity(207 [JPM]),\n",
       " Equity(258 [MSFT]),\n",
       " Equity(266 [NFLX]),\n",
       " Equity(400 [XOM]),\n",
       " Equity(3 [AAPL]),\n",
       " Equity(50 [BAC]),\n",
       " Equity(62 [C]),\n",
       " Equity(93 [CSCO]),\n",
       " Equity(160 [GOOG]),\n",
       " Equity(161 [GOOGL]),\n",
       " Equity(207 [JPM]),\n",
       " Equity(258 [MSFT]),\n",
       " Equity(266 [NFLX]),\n",
       " Equity(400 [XOM]),\n",
       " Equity(3 [AAPL]),\n",
       " Equity(50 [BAC]),\n",
       " Equity(62 [C]),\n",
       " Equity(93 [CSCO]),\n",
       " Equity(160 [GOOG]),\n",
       " Equity(161 [GOOGL]),\n",
       " Equity(207 [JPM]),\n",
       " Equity(258 [MSFT]),\n",
       " Equity(266 [NFLX]),\n",
       " Equity(400 [XOM]),\n",
       " Equity(3 [AAPL]),\n",
       " Equity(50 [BAC]),\n",
       " Equity(62 [C]),\n",
       " Equity(93 [CSCO]),\n",
       " Equity(160 [GOOG]),\n",
       " Equity(161 [GOOGL]),\n",
       " Equity(207 [JPM]),\n",
       " Equity(258 [MSFT]),\n",
       " Equity(266 [NFLX]),\n",
       " Equity(400 [XOM]),\n",
       " Equity(3 [AAPL]),\n",
       " Equity(50 [BAC]),\n",
       " Equity(62 [C]),\n",
       " Equity(93 [CSCO]),\n",
       " Equity(160 [GOOG]),\n",
       " Equity(161 [GOOGL]),\n",
       " Equity(207 [JPM]),\n",
       " Equity(258 [MSFT]),\n",
       " Equity(266 [NFLX]),\n",
       " Equity(400 [XOM]),\n",
       " Equity(3 [AAPL]),\n",
       " Equity(50 [BAC]),\n",
       " Equity(62 [C]),\n",
       " Equity(93 [CSCO]),\n",
       " Equity(160 [GOOG]),\n",
       " Equity(161 [GOOGL]),\n",
       " Equity(207 [JPM]),\n",
       " Equity(258 [MSFT]),\n",
       " Equity(266 [NFLX]),\n",
       " Equity(400 [XOM]),\n",
       " Equity(3 [AAPL]),\n",
       " Equity(50 [BAC]),\n",
       " Equity(62 [C]),\n",
       " Equity(93 [CSCO]),\n",
       " Equity(160 [GOOG]),\n",
       " Equity(161 [GOOGL]),\n",
       " Equity(207 [JPM]),\n",
       " Equity(258 [MSFT]),\n",
       " Equity(266 [NFLX]),\n",
       " Equity(400 [XOM]),\n",
       " Equity(3 [AAPL]),\n",
       " Equity(50 [BAC]),\n",
       " Equity(62 [C]),\n",
       " Equity(93 [CSCO]),\n",
       " Equity(160 [GOOG]),\n",
       " Equity(161 [GOOGL]),\n",
       " Equity(207 [JPM]),\n",
       " Equity(258 [MSFT]),\n",
       " Equity(266 [NFLX]),\n",
       " Equity(400 [XOM]),\n",
       " Equity(3 [AAPL]),\n",
       " Equity(50 [BAC]),\n",
       " Equity(62 [C]),\n",
       " Equity(93 [CSCO]),\n",
       " Equity(160 [GOOG]),\n",
       " Equity(161 [GOOGL]),\n",
       " Equity(207 [JPM]),\n",
       " Equity(258 [MSFT]),\n",
       " Equity(266 [NFLX]),\n",
       " Equity(400 [XOM]),\n",
       " Equity(3 [AAPL]),\n",
       " Equity(50 [BAC]),\n",
       " Equity(62 [C]),\n",
       " Equity(93 [CSCO]),\n",
       " Equity(160 [GOOG]),\n",
       " Equity(161 [GOOGL]),\n",
       " Equity(207 [JPM]),\n",
       " Equity(258 [MSFT]),\n",
       " Equity(266 [NFLX]),\n",
       " Equity(400 [XOM]),\n",
       " Equity(3 [AAPL]),\n",
       " Equity(50 [BAC]),\n",
       " Equity(62 [C]),\n",
       " Equity(93 [CSCO]),\n",
       " Equity(160 [GOOG]),\n",
       " Equity(161 [GOOGL]),\n",
       " Equity(207 [JPM]),\n",
       " Equity(258 [MSFT]),\n",
       " Equity(266 [NFLX]),\n",
       " Equity(400 [XOM]),\n",
       " Equity(3 [AAPL]),\n",
       " Equity(50 [BAC]),\n",
       " Equity(62 [C]),\n",
       " Equity(93 [CSCO]),\n",
       " Equity(160 [GOOG]),\n",
       " Equity(161 [GOOGL]),\n",
       " Equity(207 [JPM]),\n",
       " Equity(258 [MSFT]),\n",
       " Equity(266 [NFLX]),\n",
       " Equity(400 [XOM]),\n",
       " Equity(3 [AAPL]),\n",
       " Equity(50 [BAC]),\n",
       " Equity(62 [C]),\n",
       " Equity(93 [CSCO]),\n",
       " Equity(160 [GOOG]),\n",
       " Equity(161 [GOOGL]),\n",
       " Equity(207 [JPM]),\n",
       " Equity(258 [MSFT]),\n",
       " Equity(266 [NFLX]),\n",
       " Equity(400 [XOM]),\n",
       " Equity(3 [AAPL]),\n",
       " Equity(50 [BAC]),\n",
       " Equity(62 [C]),\n",
       " Equity(93 [CSCO]),\n",
       " Equity(160 [GOOG]),\n",
       " Equity(161 [GOOGL]),\n",
       " Equity(207 [JPM]),\n",
       " Equity(258 [MSFT]),\n",
       " Equity(266 [NFLX]),\n",
       " Equity(400 [XOM]),\n",
       " Equity(3 [AAPL]),\n",
       " Equity(50 [BAC]),\n",
       " Equity(62 [C]),\n",
       " Equity(93 [CSCO]),\n",
       " Equity(160 [GOOG]),\n",
       " Equity(161 [GOOGL]),\n",
       " Equity(207 [JPM]),\n",
       " Equity(258 [MSFT]),\n",
       " Equity(266 [NFLX]),\n",
       " Equity(400 [XOM]),\n",
       " Equity(3 [AAPL]),\n",
       " Equity(50 [BAC]),\n",
       " Equity(62 [C]),\n",
       " Equity(93 [CSCO]),\n",
       " Equity(160 [GOOG]),\n",
       " Equity(161 [GOOGL]),\n",
       " Equity(207 [JPM]),\n",
       " Equity(258 [MSFT]),\n",
       " Equity(266 [NFLX]),\n",
       " Equity(400 [XOM]),\n",
       " Equity(3 [AAPL]),\n",
       " Equity(50 [BAC]),\n",
       " Equity(62 [C]),\n",
       " Equity(93 [CSCO]),\n",
       " Equity(160 [GOOG]),\n",
       " Equity(161 [GOOGL]),\n",
       " Equity(207 [JPM]),\n",
       " Equity(258 [MSFT]),\n",
       " Equity(266 [NFLX]),\n",
       " Equity(400 [XOM]),\n",
       " Equity(3 [AAPL]),\n",
       " Equity(50 [BAC]),\n",
       " Equity(62 [C]),\n",
       " Equity(93 [CSCO]),\n",
       " Equity(160 [GOOG]),\n",
       " Equity(161 [GOOGL]),\n",
       " Equity(207 [JPM]),\n",
       " Equity(258 [MSFT]),\n",
       " Equity(266 [NFLX]),\n",
       " Equity(400 [XOM]),\n",
       " Equity(3 [AAPL]),\n",
       " Equity(50 [BAC]),\n",
       " Equity(62 [C]),\n",
       " Equity(93 [CSCO]),\n",
       " Equity(160 [GOOG]),\n",
       " Equity(161 [GOOGL]),\n",
       " Equity(207 [JPM]),\n",
       " Equity(258 [MSFT]),\n",
       " Equity(266 [NFLX]),\n",
       " Equity(400 [XOM]),\n",
       " Equity(3 [AAPL]),\n",
       " Equity(50 [BAC]),\n",
       " Equity(62 [C]),\n",
       " Equity(155 [GE]),\n",
       " Equity(160 [GOOG]),\n",
       " Equity(161 [GOOGL]),\n",
       " Equity(207 [JPM]),\n",
       " Equity(258 [MSFT]),\n",
       " Equity(266 [NFLX]),\n",
       " Equity(400 [XOM]),\n",
       " Equity(3 [AAPL]),\n",
       " Equity(50 [BAC]),\n",
       " Equity(62 [C]),\n",
       " Equity(155 [GE]),\n",
       " Equity(160 [GOOG]),\n",
       " Equity(161 [GOOGL]),\n",
       " Equity(207 [JPM]),\n",
       " Equity(258 [MSFT]),\n",
       " Equity(266 [NFLX]),\n",
       " Equity(400 [XOM]),\n",
       " Equity(3 [AAPL]),\n",
       " Equity(50 [BAC]),\n",
       " Equity(62 [C]),\n",
       " Equity(155 [GE]),\n",
       " Equity(160 [GOOG]),\n",
       " Equity(161 [GOOGL]),\n",
       " Equity(207 [JPM]),\n",
       " Equity(258 [MSFT]),\n",
       " Equity(266 [NFLX]),\n",
       " Equity(400 [XOM]),\n",
       " Equity(3 [AAPL]),\n",
       " Equity(50 [BAC]),\n",
       " Equity(62 [C]),\n",
       " Equity(155 [GE]),\n",
       " Equity(160 [GOOG]),\n",
       " Equity(161 [GOOGL]),\n",
       " Equity(207 [JPM]),\n",
       " Equity(258 [MSFT]),\n",
       " Equity(266 [NFLX]),\n",
       " Equity(400 [XOM]),\n",
       " Equity(3 [AAPL]),\n",
       " Equity(50 [BAC]),\n",
       " Equity(62 [C]),\n",
       " Equity(155 [GE]),\n",
       " Equity(160 [GOOG]),\n",
       " Equity(161 [GOOGL]),\n",
       " Equity(207 [JPM]),\n",
       " Equity(258 [MSFT]),\n",
       " Equity(266 [NFLX]),\n",
       " Equity(400 [XOM]),\n",
       " Equity(3 [AAPL]),\n",
       " Equity(50 [BAC]),\n",
       " Equity(62 [C]),\n",
       " Equity(155 [GE]),\n",
       " Equity(160 [GOOG]),\n",
       " Equity(161 [GOOGL]),\n",
       " Equity(207 [JPM]),\n",
       " Equity(258 [MSFT]),\n",
       " Equity(266 [NFLX]),\n",
       " Equity(400 [XOM]),\n",
       " Equity(3 [AAPL]),\n",
       " Equity(50 [BAC]),\n",
       " Equity(62 [C]),\n",
       " Equity(155 [GE]),\n",
       " Equity(160 [GOOG]),\n",
       " Equity(161 [GOOGL]),\n",
       " Equity(207 [JPM]),\n",
       " Equity(258 [MSFT]),\n",
       " Equity(266 [NFLX]),\n",
       " Equity(400 [XOM]),\n",
       " Equity(3 [AAPL]),\n",
       " Equity(50 [BAC]),\n",
       " Equity(62 [C]),\n",
       " Equity(155 [GE]),\n",
       " Equity(160 [GOOG]),\n",
       " Equity(161 [GOOGL]),\n",
       " Equity(207 [JPM]),\n",
       " Equity(258 [MSFT]),\n",
       " Equity(266 [NFLX]),\n",
       " Equity(400 [XOM]),\n",
       " Equity(3 [AAPL]),\n",
       " Equity(50 [BAC]),\n",
       " Equity(62 [C]),\n",
       " Equity(155 [GE]),\n",
       " Equity(160 [GOOG]),\n",
       " Equity(161 [GOOGL]),\n",
       " Equity(207 [JPM]),\n",
       " Equity(258 [MSFT]),\n",
       " Equity(266 [NFLX]),\n",
       " Equity(400 [XOM]),\n",
       " Equity(3 [AAPL]),\n",
       " Equity(50 [BAC]),\n",
       " Equity(62 [C]),\n",
       " Equity(155 [GE]),\n",
       " Equity(160 [GOOG]),\n",
       " Equity(161 [GOOGL]),\n",
       " Equity(207 [JPM]),\n",
       " Equity(258 [MSFT]),\n",
       " Equity(266 [NFLX]),\n",
       " Equity(400 [XOM]),\n",
       " Equity(3 [AAPL]),\n",
       " Equity(50 [BAC]),\n",
       " Equity(62 [C]),\n",
       " Equity(155 [GE]),\n",
       " Equity(160 [GOOG]),\n",
       " Equity(161 [GOOGL]),\n",
       " Equity(207 [JPM]),\n",
       " Equity(258 [MSFT]),\n",
       " Equity(266 [NFLX]),\n",
       " Equity(400 [XOM]),\n",
       " Equity(3 [AAPL]),\n",
       " Equity(50 [BAC]),\n",
       " Equity(62 [C]),\n",
       " Equity(155 [GE]),\n",
       " Equity(160 [GOOG]),\n",
       " Equity(161 [GOOGL]),\n",
       " Equity(207 [JPM]),\n",
       " Equity(258 [MSFT]),\n",
       " Equity(266 [NFLX]),\n",
       " Equity(400 [XOM]),\n",
       " Equity(3 [AAPL]),\n",
       " Equity(50 [BAC]),\n",
       " Equity(62 [C]),\n",
       " Equity(155 [GE]),\n",
       " Equity(160 [GOOG]),\n",
       " Equity(161 [GOOGL]),\n",
       " Equity(207 [JPM]),\n",
       " Equity(258 [MSFT]),\n",
       " Equity(266 [NFLX]),\n",
       " Equity(400 [XOM]),\n",
       " ...]"
      ]
     },
     "execution_count": 10,
     "metadata": {},
     "output_type": "execute_result"
    }
   ],
   "source": [
    "# Get the values in index level 1 and save them to a list\n",
    "universe_tickers = pipeline_output.index.get_level_values(1).values.tolist()\n",
    "\n",
    "# Display the tickers\n",
    "universe_tickers"
   ]
  },
  {
   "cell_type": "code",
   "execution_count": 11,
   "metadata": {},
   "outputs": [],
   "source": [
    "from zipline.data.data_portal import DataPortal\n",
    "\n",
    "# Create a data portal\n",
    "data_portal = DataPortal(bundle_data.asset_finder,\n",
    "                         trading_calendar = trading_calendar,\n",
    "                         first_trading_day = bundle_data.equity_daily_bar_reader.first_trading_day,\n",
    "                         equity_daily_reader = bundle_data.equity_daily_bar_reader,\n",
    "                         adjustment_reader = bundle_data.adjustment_reader)"
   ]
  },
  {
   "cell_type": "code",
   "execution_count": 12,
   "metadata": {},
   "outputs": [
    {
     "data": {
      "text/html": [
       "<div>\n",
       "<style scoped>\n",
       "    .dataframe tbody tr th:only-of-type {\n",
       "        vertical-align: middle;\n",
       "    }\n",
       "\n",
       "    .dataframe tbody tr th {\n",
       "        vertical-align: top;\n",
       "    }\n",
       "\n",
       "    .dataframe thead th {\n",
       "        text-align: right;\n",
       "    }\n",
       "</style>\n",
       "<table border=\"1\" class=\"dataframe\">\n",
       "  <thead>\n",
       "    <tr style=\"text-align: right;\">\n",
       "      <th></th>\n",
       "      <th>Equity(3 [AAPL])</th>\n",
       "      <th>Equity(50 [BAC])</th>\n",
       "      <th>Equity(62 [C])</th>\n",
       "      <th>Equity(160 [GOOG])</th>\n",
       "      <th>Equity(161 [GOOGL])</th>\n",
       "      <th>Equity(207 [JPM])</th>\n",
       "      <th>Equity(258 [MSFT])</th>\n",
       "      <th>Equity(283 [ORCL])</th>\n",
       "      <th>Equity(292 [PFE])</th>\n",
       "      <th>Equity(400 [XOM])</th>\n",
       "      <th>...</th>\n",
       "      <th>Equity(3 [AAPL])</th>\n",
       "      <th>Equity(33 [AMZN])</th>\n",
       "      <th>Equity(50 [BAC])</th>\n",
       "      <th>Equity(155 [GE])</th>\n",
       "      <th>Equity(160 [GOOG])</th>\n",
       "      <th>Equity(161 [GOOGL])</th>\n",
       "      <th>Equity(207 [JPM])</th>\n",
       "      <th>Equity(258 [MSFT])</th>\n",
       "      <th>Equity(276 [NVDA])</th>\n",
       "      <th>Equity(390 [WFC])</th>\n",
       "    </tr>\n",
       "  </thead>\n",
       "  <tbody>\n",
       "    <tr>\n",
       "      <th>2013-07-02</th>\n",
       "      <td>14.946</td>\n",
       "      <td>12.90</td>\n",
       "      <td>48.15</td>\n",
       "      <td>21.975</td>\n",
       "      <td>22.080</td>\n",
       "      <td>52.80</td>\n",
       "      <td>33.94</td>\n",
       "      <td>30.10</td>\n",
       "      <td>26.281</td>\n",
       "      <td>90.64</td>\n",
       "      <td>...</td>\n",
       "      <td>14.946</td>\n",
       "      <td>14.186</td>\n",
       "      <td>12.90</td>\n",
       "      <td>109.747</td>\n",
       "      <td>21.975</td>\n",
       "      <td>22.080</td>\n",
       "      <td>52.80</td>\n",
       "      <td>33.94</td>\n",
       "      <td>0.352</td>\n",
       "      <td>41.22</td>\n",
       "    </tr>\n",
       "    <tr>\n",
       "      <th>2013-07-03</th>\n",
       "      <td>15.029</td>\n",
       "      <td>12.83</td>\n",
       "      <td>47.67</td>\n",
       "      <td>22.078</td>\n",
       "      <td>22.183</td>\n",
       "      <td>52.77</td>\n",
       "      <td>34.01</td>\n",
       "      <td>30.70</td>\n",
       "      <td>26.233</td>\n",
       "      <td>90.69</td>\n",
       "      <td>...</td>\n",
       "      <td>15.029</td>\n",
       "      <td>14.201</td>\n",
       "      <td>12.83</td>\n",
       "      <td>109.795</td>\n",
       "      <td>22.078</td>\n",
       "      <td>22.183</td>\n",
       "      <td>52.77</td>\n",
       "      <td>34.01</td>\n",
       "      <td>0.353</td>\n",
       "      <td>41.22</td>\n",
       "    </tr>\n",
       "    <tr>\n",
       "      <th>2013-07-05</th>\n",
       "      <td>14.908</td>\n",
       "      <td>13.06</td>\n",
       "      <td>48.53</td>\n",
       "      <td>22.254</td>\n",
       "      <td>22.360</td>\n",
       "      <td>53.99</td>\n",
       "      <td>34.21</td>\n",
       "      <td>31.19</td>\n",
       "      <td>26.537</td>\n",
       "      <td>91.57</td>\n",
       "      <td>...</td>\n",
       "      <td>14.908</td>\n",
       "      <td>14.294</td>\n",
       "      <td>13.06</td>\n",
       "      <td>111.376</td>\n",
       "      <td>22.254</td>\n",
       "      <td>22.360</td>\n",
       "      <td>53.99</td>\n",
       "      <td>34.21</td>\n",
       "      <td>0.356</td>\n",
       "      <td>42.07</td>\n",
       "    </tr>\n",
       "    <tr>\n",
       "      <th>2013-07-08</th>\n",
       "      <td>14.823</td>\n",
       "      <td>13.28</td>\n",
       "      <td>49.52</td>\n",
       "      <td>22.543</td>\n",
       "      <td>22.650</td>\n",
       "      <td>54.70</td>\n",
       "      <td>34.33</td>\n",
       "      <td>31.65</td>\n",
       "      <td>26.689</td>\n",
       "      <td>92.25</td>\n",
       "      <td>...</td>\n",
       "      <td>14.823</td>\n",
       "      <td>14.530</td>\n",
       "      <td>13.28</td>\n",
       "      <td>111.760</td>\n",
       "      <td>22.543</td>\n",
       "      <td>22.650</td>\n",
       "      <td>54.70</td>\n",
       "      <td>34.33</td>\n",
       "      <td>0.354</td>\n",
       "      <td>42.83</td>\n",
       "    </tr>\n",
       "    <tr>\n",
       "      <th>2013-07-09</th>\n",
       "      <td>15.084</td>\n",
       "      <td>13.53</td>\n",
       "      <td>50.21</td>\n",
       "      <td>22.546</td>\n",
       "      <td>22.654</td>\n",
       "      <td>54.89</td>\n",
       "      <td>34.35</td>\n",
       "      <td>31.52</td>\n",
       "      <td>26.898</td>\n",
       "      <td>93.34</td>\n",
       "      <td>...</td>\n",
       "      <td>15.084</td>\n",
       "      <td>14.576</td>\n",
       "      <td>13.53</td>\n",
       "      <td>113.197</td>\n",
       "      <td>22.546</td>\n",
       "      <td>22.654</td>\n",
       "      <td>54.89</td>\n",
       "      <td>34.35</td>\n",
       "      <td>0.356</td>\n",
       "      <td>42.70</td>\n",
       "    </tr>\n",
       "    <tr>\n",
       "      <th>...</th>\n",
       "      <td>...</td>\n",
       "      <td>...</td>\n",
       "      <td>...</td>\n",
       "      <td>...</td>\n",
       "      <td>...</td>\n",
       "      <td>...</td>\n",
       "      <td>...</td>\n",
       "      <td>...</td>\n",
       "      <td>...</td>\n",
       "      <td>...</td>\n",
       "      <td>...</td>\n",
       "      <td>...</td>\n",
       "      <td>...</td>\n",
       "      <td>...</td>\n",
       "      <td>...</td>\n",
       "      <td>...</td>\n",
       "      <td>...</td>\n",
       "      <td>...</td>\n",
       "      <td>...</td>\n",
       "      <td>...</td>\n",
       "      <td>...</td>\n",
       "    </tr>\n",
       "    <tr>\n",
       "      <th>2017-06-26</th>\n",
       "      <td>36.455</td>\n",
       "      <td>22.89</td>\n",
       "      <td>63.78</td>\n",
       "      <td>47.613</td>\n",
       "      <td>48.604</td>\n",
       "      <td>87.24</td>\n",
       "      <td>70.53</td>\n",
       "      <td>50.86</td>\n",
       "      <td>32.296</td>\n",
       "      <td>81.24</td>\n",
       "      <td>...</td>\n",
       "      <td>36.455</td>\n",
       "      <td>49.699</td>\n",
       "      <td>22.89</td>\n",
       "      <td>132.319</td>\n",
       "      <td>47.613</td>\n",
       "      <td>48.604</td>\n",
       "      <td>87.24</td>\n",
       "      <td>70.53</td>\n",
       "      <td>3.804</td>\n",
       "      <td>52.90</td>\n",
       "    </tr>\n",
       "    <tr>\n",
       "      <th>2017-06-27</th>\n",
       "      <td>35.932</td>\n",
       "      <td>23.27</td>\n",
       "      <td>64.23</td>\n",
       "      <td>46.367</td>\n",
       "      <td>47.404</td>\n",
       "      <td>88.05</td>\n",
       "      <td>69.21</td>\n",
       "      <td>50.75</td>\n",
       "      <td>32.040</td>\n",
       "      <td>81.11</td>\n",
       "      <td>...</td>\n",
       "      <td>35.932</td>\n",
       "      <td>48.839</td>\n",
       "      <td>23.27</td>\n",
       "      <td>130.402</td>\n",
       "      <td>46.367</td>\n",
       "      <td>47.404</td>\n",
       "      <td>88.05</td>\n",
       "      <td>69.21</td>\n",
       "      <td>3.664</td>\n",
       "      <td>53.16</td>\n",
       "    </tr>\n",
       "    <tr>\n",
       "      <th>2017-06-28</th>\n",
       "      <td>36.458</td>\n",
       "      <td>23.88</td>\n",
       "      <td>65.18</td>\n",
       "      <td>47.025</td>\n",
       "      <td>48.050</td>\n",
       "      <td>89.82</td>\n",
       "      <td>69.80</td>\n",
       "      <td>50.87</td>\n",
       "      <td>32.021</td>\n",
       "      <td>81.53</td>\n",
       "      <td>...</td>\n",
       "      <td>36.458</td>\n",
       "      <td>49.516</td>\n",
       "      <td>23.88</td>\n",
       "      <td>129.779</td>\n",
       "      <td>47.025</td>\n",
       "      <td>48.050</td>\n",
       "      <td>89.82</td>\n",
       "      <td>69.80</td>\n",
       "      <td>3.794</td>\n",
       "      <td>54.33</td>\n",
       "    </tr>\n",
       "    <tr>\n",
       "      <th>2017-06-29</th>\n",
       "      <td>35.920</td>\n",
       "      <td>24.32</td>\n",
       "      <td>66.98</td>\n",
       "      <td>45.889</td>\n",
       "      <td>46.891</td>\n",
       "      <td>91.15</td>\n",
       "      <td>68.49</td>\n",
       "      <td>50.20</td>\n",
       "      <td>31.907</td>\n",
       "      <td>80.70</td>\n",
       "      <td>...</td>\n",
       "      <td>35.920</td>\n",
       "      <td>48.797</td>\n",
       "      <td>24.32</td>\n",
       "      <td>129.492</td>\n",
       "      <td>45.889</td>\n",
       "      <td>46.891</td>\n",
       "      <td>91.15</td>\n",
       "      <td>68.49</td>\n",
       "      <td>3.667</td>\n",
       "      <td>55.78</td>\n",
       "    </tr>\n",
       "    <tr>\n",
       "      <th>2017-06-30</th>\n",
       "      <td>NaN</td>\n",
       "      <td>NaN</td>\n",
       "      <td>NaN</td>\n",
       "      <td>NaN</td>\n",
       "      <td>NaN</td>\n",
       "      <td>NaN</td>\n",
       "      <td>NaN</td>\n",
       "      <td>NaN</td>\n",
       "      <td>NaN</td>\n",
       "      <td>NaN</td>\n",
       "      <td>...</td>\n",
       "      <td>NaN</td>\n",
       "      <td>NaN</td>\n",
       "      <td>NaN</td>\n",
       "      <td>NaN</td>\n",
       "      <td>NaN</td>\n",
       "      <td>NaN</td>\n",
       "      <td>NaN</td>\n",
       "      <td>NaN</td>\n",
       "      <td>NaN</td>\n",
       "      <td>NaN</td>\n",
       "    </tr>\n",
       "  </tbody>\n",
       "</table>\n",
       "<p>1008 rows × 10070 columns</p>\n",
       "</div>"
      ],
      "text/plain": [
       "            Equity(3 [AAPL])  Equity(50 [BAC])  Equity(62 [C])  \\\n",
       "2013-07-02            14.946             12.90           48.15   \n",
       "2013-07-03            15.029             12.83           47.67   \n",
       "2013-07-05            14.908             13.06           48.53   \n",
       "2013-07-08            14.823             13.28           49.52   \n",
       "2013-07-09            15.084             13.53           50.21   \n",
       "...                      ...               ...             ...   \n",
       "2017-06-26            36.455             22.89           63.78   \n",
       "2017-06-27            35.932             23.27           64.23   \n",
       "2017-06-28            36.458             23.88           65.18   \n",
       "2017-06-29            35.920             24.32           66.98   \n",
       "2017-06-30               NaN               NaN             NaN   \n",
       "\n",
       "            Equity(160 [GOOG])  Equity(161 [GOOGL])  Equity(207 [JPM])  \\\n",
       "2013-07-02              21.975               22.080              52.80   \n",
       "2013-07-03              22.078               22.183              52.77   \n",
       "2013-07-05              22.254               22.360              53.99   \n",
       "2013-07-08              22.543               22.650              54.70   \n",
       "2013-07-09              22.546               22.654              54.89   \n",
       "...                        ...                  ...                ...   \n",
       "2017-06-26              47.613               48.604              87.24   \n",
       "2017-06-27              46.367               47.404              88.05   \n",
       "2017-06-28              47.025               48.050              89.82   \n",
       "2017-06-29              45.889               46.891              91.15   \n",
       "2017-06-30                 NaN                  NaN                NaN   \n",
       "\n",
       "            Equity(258 [MSFT])  Equity(283 [ORCL])  Equity(292 [PFE])  \\\n",
       "2013-07-02               33.94               30.10             26.281   \n",
       "2013-07-03               34.01               30.70             26.233   \n",
       "2013-07-05               34.21               31.19             26.537   \n",
       "2013-07-08               34.33               31.65             26.689   \n",
       "2013-07-09               34.35               31.52             26.898   \n",
       "...                        ...                 ...                ...   \n",
       "2017-06-26               70.53               50.86             32.296   \n",
       "2017-06-27               69.21               50.75             32.040   \n",
       "2017-06-28               69.80               50.87             32.021   \n",
       "2017-06-29               68.49               50.20             31.907   \n",
       "2017-06-30                 NaN                 NaN                NaN   \n",
       "\n",
       "            Equity(400 [XOM])  ...  Equity(3 [AAPL])  Equity(33 [AMZN])  \\\n",
       "2013-07-02              90.64  ...            14.946             14.186   \n",
       "2013-07-03              90.69  ...            15.029             14.201   \n",
       "2013-07-05              91.57  ...            14.908             14.294   \n",
       "2013-07-08              92.25  ...            14.823             14.530   \n",
       "2013-07-09              93.34  ...            15.084             14.576   \n",
       "...                       ...  ...               ...                ...   \n",
       "2017-06-26              81.24  ...            36.455             49.699   \n",
       "2017-06-27              81.11  ...            35.932             48.839   \n",
       "2017-06-28              81.53  ...            36.458             49.516   \n",
       "2017-06-29              80.70  ...            35.920             48.797   \n",
       "2017-06-30                NaN  ...               NaN                NaN   \n",
       "\n",
       "            Equity(50 [BAC])  Equity(155 [GE])  Equity(160 [GOOG])  \\\n",
       "2013-07-02             12.90           109.747              21.975   \n",
       "2013-07-03             12.83           109.795              22.078   \n",
       "2013-07-05             13.06           111.376              22.254   \n",
       "2013-07-08             13.28           111.760              22.543   \n",
       "2013-07-09             13.53           113.197              22.546   \n",
       "...                      ...               ...                 ...   \n",
       "2017-06-26             22.89           132.319              47.613   \n",
       "2017-06-27             23.27           130.402              46.367   \n",
       "2017-06-28             23.88           129.779              47.025   \n",
       "2017-06-29             24.32           129.492              45.889   \n",
       "2017-06-30               NaN               NaN                 NaN   \n",
       "\n",
       "            Equity(161 [GOOGL])  Equity(207 [JPM])  Equity(258 [MSFT])  \\\n",
       "2013-07-02               22.080              52.80               33.94   \n",
       "2013-07-03               22.183              52.77               34.01   \n",
       "2013-07-05               22.360              53.99               34.21   \n",
       "2013-07-08               22.650              54.70               34.33   \n",
       "2013-07-09               22.654              54.89               34.35   \n",
       "...                         ...                ...                 ...   \n",
       "2017-06-26               48.604              87.24               70.53   \n",
       "2017-06-27               47.404              88.05               69.21   \n",
       "2017-06-28               48.050              89.82               69.80   \n",
       "2017-06-29               46.891              91.15               68.49   \n",
       "2017-06-30                  NaN                NaN                 NaN   \n",
       "\n",
       "            Equity(276 [NVDA])  Equity(390 [WFC])  \n",
       "2013-07-02               0.352              41.22  \n",
       "2013-07-03               0.353              41.22  \n",
       "2013-07-05               0.356              42.07  \n",
       "2013-07-08               0.354              42.83  \n",
       "2013-07-09               0.356              42.70  \n",
       "...                        ...                ...  \n",
       "2017-06-26               3.804              52.90  \n",
       "2017-06-27               3.664              53.16  \n",
       "2017-06-28               3.794              54.33  \n",
       "2017-06-29               3.667              55.78  \n",
       "2017-06-30                 NaN                NaN  \n",
       "\n",
       "[1008 rows x 10070 columns]"
      ]
     },
     "execution_count": 12,
     "metadata": {},
     "output_type": "execute_result"
    }
   ],
   "source": [
    "def get_pricing(data_portal, trading_calendar, assets, start_date, end_date, field='close'):\n",
    "    \n",
    "    \n",
    "    # Set the given start and end dates to Timestamps. \n",
    "    # end_dt = pd.Timestamp(end_date, tz='UTC', freq='D')  # Removed 'freq' argument\n",
    "    # start_dt = pd.Timestamp(start_date, tz='UTC', freq='D')  # Removed 'freq' argument\n",
    "\n",
    "    # Get the locations of the start and end dates\n",
    "    end_loc = trading_calendar.closes.index.get_loc(end_date)\n",
    "    start_loc = trading_calendar.closes.index.get_loc(start_date)\n",
    "\n",
    "    # Return the historical data for the given window\n",
    "    return data_portal.get_history_window(\n",
    "        assets=assets, \n",
    "        end_dt=end_date, \n",
    "        bar_count=end_loc - start_loc, \n",
    "        frequency='1d', \n",
    "        field=field,\n",
    "        data_frequency='daily'\n",
    "    )\n",
    "\n",
    "# Get the historical data for the given window\n",
    "historical_data = get_pricing(data_portal, trading_calendar, universe_tickers,\n",
    "                               start_date=start_session, end_date=end_session)\n",
    "\n",
    "# Display the historical data\n",
    "historical_data\n"
   ]
  },
  {
   "cell_type": "code",
   "execution_count": 13,
   "metadata": {},
   "outputs": [
    {
     "data": {
      "image/svg+xml": [
       "<svg xmlns=\"http://www.w3.org/2000/svg\" xmlns:xlink=\"http://www.w3.org/1999/xlink\" width=\"640pt\" height=\"376pt\" viewBox=\"0.00 0.00 640.00 376.00\">\n",
       "<g id=\"graph0\" class=\"graph\" transform=\"scale(1 1) rotate(0) translate(4 372)\">\n",
       "<title>G</title>\n",
       "<polygon fill=\"white\" stroke=\"transparent\" points=\"-4,4 -4,-372 636,-372 636,4 -4,4\"/>\n",
       "<g id=\"clust1\" class=\"cluster\">\n",
       "<title>cluster_Output</title>\n",
       "<polygon fill=\"#ffec8b\" stroke=\"#ffec8b\" points=\"16,-8 16,-85 398,-85 398,-8 16,-8\"/>\n",
       "<text text-anchor=\"middle\" x=\"207\" y=\"-15.8\" font-family=\"Times,serif\" font-size=\"14.00\">Output</text>\n",
       "</g>\n",
       "<g id=\"clust2\" class=\"cluster\">\n",
       "<title>cluster_Input</title>\n",
       "<polygon fill=\"#ffec8b\" stroke=\"#ffec8b\" points=\"8,-268 8,-360 624,-360 624,-268 8,-268\"/>\n",
       "<text text-anchor=\"middle\" x=\"316\" y=\"-344.8\" font-family=\"Times,serif\" font-size=\"14.00\">Input</text>\n",
       "</g>\n",
       "<!-- 139892147472704 -->\n",
       "<g id=\"node1\" class=\"node\">\n",
       "<title>139892147472704</title>\n",
       "<polygon fill=\"#b3cde3\" stroke=\"black\" points=\"206,-77 24,-77 24,-39 206,-39 206,-77\"/>\n",
       "<text text-anchor=\"start\" x=\"32\" y=\"-61.8\" font-family=\"Times,serif\" font-size=\"14.00\">SimpleMovingAverage:</text>\n",
       "<text text-anchor=\"start\" x=\"32\" y=\"-46.8\" font-family=\"Times,serif\" font-size=\"14.00\">  window_length: 15</text>\n",
       "</g>\n",
       "<!-- 139892387830560 -->\n",
       "<g id=\"node2\" class=\"node\">\n",
       "<title>139892387830560</title>\n",
       "<polygon fill=\"#ccebc5\" stroke=\"black\" points=\"389.5,-77 224.5,-77 224.5,-39 389.5,-39 389.5,-77\"/>\n",
       "<text text-anchor=\"start\" x=\"232.5\" y=\"-61.8\" font-family=\"Times,serif\" font-size=\"14.00\">Expression:</text>\n",
       "<text text-anchor=\"start\" x=\"232.5\" y=\"-46.8\" font-family=\"Times,serif\" font-size=\"14.00\">  x_0 &lt;= (1.00E+01)</text>\n",
       "</g>\n",
       "<!-- 139892148391456 -->\n",
       "<g id=\"node3\" class=\"node\">\n",
       "<title>139892148391456</title>\n",
       "<polygon fill=\"#fbb4ae\" stroke=\"black\" points=\"204,-329 16,-329 16,-276 204,-276 204,-329\"/>\n",
       "<text text-anchor=\"start\" x=\"24\" y=\"-313.8\" font-family=\"Times,serif\" font-size=\"14.00\">BoundColumn:</text>\n",
       "<text text-anchor=\"start\" x=\"24\" y=\"-298.8\" font-family=\"Times,serif\" font-size=\"14.00\">  Dataset: EquityPricing</text>\n",
       "<text text-anchor=\"start\" x=\"24\" y=\"-283.8\" font-family=\"Times,serif\" font-size=\"14.00\">  Column: close</text>\n",
       "</g>\n",
       "<!-- 139892148391456&#45;&gt;139892147472704 -->\n",
       "<g id=\"edge1\" class=\"edge\">\n",
       "<title>139892148391456-&gt;139892147472704</title>\n",
       "<path fill=\"none\" stroke=\"black\" d=\"M114,-275.87C114,-275.87 114,-87.28 114,-87.28\"/>\n",
       "<polygon fill=\"black\" stroke=\"black\" points=\"117.5,-87.28 114,-77.28 110.5,-87.28 117.5,-87.28\"/>\n",
       "</g>\n",
       "<!-- 139891637756496 -->\n",
       "<g id=\"node4\" class=\"node\">\n",
       "<title>139891637756496</title>\n",
       "<polygon fill=\"#fbb4ae\" stroke=\"black\" points=\"410,-329 222,-329 222,-276 410,-276 410,-329\"/>\n",
       "<text text-anchor=\"start\" x=\"230\" y=\"-313.8\" font-family=\"Times,serif\" font-size=\"14.00\">BoundColumn:</text>\n",
       "<text text-anchor=\"start\" x=\"230\" y=\"-298.8\" font-family=\"Times,serif\" font-size=\"14.00\">  Dataset: EquityPricing</text>\n",
       "<text text-anchor=\"start\" x=\"230\" y=\"-283.8\" font-family=\"Times,serif\" font-size=\"14.00\">  Column: volume</text>\n",
       "</g>\n",
       "<!-- 139892387831520 -->\n",
       "<g id=\"node6\" class=\"node\">\n",
       "<title>139892387831520</title>\n",
       "<polygon fill=\"#b3cde3\" stroke=\"black\" points=\"404,-240 228,-240 228,-202 404,-202 404,-240\"/>\n",
       "<text text-anchor=\"start\" x=\"236\" y=\"-224.8\" font-family=\"Times,serif\" font-size=\"14.00\">AverageDollarVolume:</text>\n",
       "<text text-anchor=\"start\" x=\"236\" y=\"-209.8\" font-family=\"Times,serif\" font-size=\"14.00\">  window_length: 60</text>\n",
       "</g>\n",
       "<!-- 139891637756496&#45;&gt;139892387831520 -->\n",
       "<g id=\"edge5\" class=\"edge\">\n",
       "<title>139891637756496-&gt;139892387831520</title>\n",
       "<path fill=\"none\" stroke=\"black\" d=\"M316,-275.81C316,-275.81 316,-250.25 316,-250.25\"/>\n",
       "<polygon fill=\"black\" stroke=\"black\" points=\"319.5,-250.25 316,-240.25 312.5,-250.25 319.5,-250.25\"/>\n",
       "</g>\n",
       "<!-- 139891637759184 -->\n",
       "<g id=\"node5\" class=\"node\">\n",
       "<title>139891637759184</title>\n",
       "<polygon fill=\"#fbb4ae\" stroke=\"black\" points=\"616,-329 428,-329 428,-276 616,-276 616,-329\"/>\n",
       "<text text-anchor=\"start\" x=\"436\" y=\"-313.8\" font-family=\"Times,serif\" font-size=\"14.00\">BoundColumn:</text>\n",
       "<text text-anchor=\"start\" x=\"436\" y=\"-298.8\" font-family=\"Times,serif\" font-size=\"14.00\">  Dataset: EquityPricing</text>\n",
       "<text text-anchor=\"start\" x=\"436\" y=\"-283.8\" font-family=\"Times,serif\" font-size=\"14.00\">  Column: close</text>\n",
       "</g>\n",
       "<!-- 139891637759184&#45;&gt;139892387831520 -->\n",
       "<g id=\"edge4\" class=\"edge\">\n",
       "<title>139891637759184-&gt;139892387831520</title>\n",
       "<path fill=\"none\" stroke=\"black\" d=\"M522,-275.81C522,-252.05 522,-221 522,-221 522,-221 414.26,-221 414.26,-221\"/>\n",
       "<polygon fill=\"black\" stroke=\"black\" points=\"414.26,-217.5 404.26,-221 414.26,-224.5 414.26,-217.5\"/>\n",
       "</g>\n",
       "<!-- 139892387830608 -->\n",
       "<g id=\"node7\" class=\"node\">\n",
       "<title>139892387830608</title>\n",
       "<polygon fill=\"#b3cde3\" stroke=\"black\" points=\"386.5,-166 231.5,-166 231.5,-113 386.5,-113 386.5,-166\"/>\n",
       "<text text-anchor=\"start\" x=\"239.5\" y=\"-150.8\" font-family=\"Times,serif\" font-size=\"14.00\">Rank:</text>\n",
       "<text text-anchor=\"start\" x=\"239.5\" y=\"-135.8\" font-family=\"Times,serif\" font-size=\"14.00\">  method: 'ordinal'</text>\n",
       "<text text-anchor=\"start\" x=\"239.5\" y=\"-120.8\" font-family=\"Times,serif\" font-size=\"14.00\">  mask: AssetExists</text>\n",
       "</g>\n",
       "<!-- 139892387831520&#45;&gt;139892387830608 -->\n",
       "<g id=\"edge3\" class=\"edge\">\n",
       "<title>139892387831520-&gt;139892387830608</title>\n",
       "<path fill=\"none\" stroke=\"black\" d=\"M309,-201.69C309,-201.69 309,-176.08 309,-176.08\"/>\n",
       "<polygon fill=\"black\" stroke=\"black\" points=\"312.5,-176.08 309,-166.08 305.5,-176.08 312.5,-176.08\"/>\n",
       "</g>\n",
       "<!-- 139892387830608&#45;&gt;139892387830560 -->\n",
       "<g id=\"edge2\" class=\"edge\">\n",
       "<title>139892387830608-&gt;139892387830560</title>\n",
       "<path fill=\"none\" stroke=\"black\" d=\"M309,-112.81C309,-112.81 309,-87.25 309,-87.25\"/>\n",
       "<polygon fill=\"black\" stroke=\"black\" points=\"312.5,-87.25 309,-77.25 305.5,-87.25 312.5,-87.25\"/>\n",
       "</g>\n",
       "</g>\n",
       "</svg>"
      ],
      "text/plain": [
       "<IPython.core.display.SVG object>"
      ]
     },
     "execution_count": 13,
     "metadata": {},
     "output_type": "execute_result"
    }
   ],
   "source": [
    "from zipline.pipeline.factors import SimpleMovingAverage\n",
    "\n",
    "# Create a factor that computes the 15-day mean closing price of securities\n",
    "mean_close_15 = SimpleMovingAverage(inputs = [USEquityPricing.close], window_length = 15)\n",
    "\n",
    "# Add the factor to our pipeline\n",
    "pipeline.add(mean_close_15, '15 Day MCP')\n",
    "\n",
    "# Render the pipeline as a DAG\n",
    "pipeline.show_graph()"
   ]
  },
  {
   "cell_type": "code",
   "execution_count": 17,
   "metadata": {},
   "outputs": [
    {
     "data": {
      "text/html": [
       "<div>\n",
       "<style scoped>\n",
       "    .dataframe tbody tr th:only-of-type {\n",
       "        vertical-align: middle;\n",
       "    }\n",
       "\n",
       "    .dataframe tbody tr th {\n",
       "        vertical-align: top;\n",
       "    }\n",
       "\n",
       "    .dataframe thead th {\n",
       "        text-align: right;\n",
       "    }\n",
       "</style>\n",
       "<table border=\"1\" class=\"dataframe\">\n",
       "  <thead>\n",
       "    <tr style=\"text-align: right;\">\n",
       "      <th></th>\n",
       "      <th></th>\n",
       "      <th>15 Day MCP</th>\n",
       "    </tr>\n",
       "  </thead>\n",
       "  <tbody>\n",
       "    <tr>\n",
       "      <th rowspan=\"5\" valign=\"top\">2013-07-02</th>\n",
       "      <th>Equity(3 [AAPL])</th>\n",
       "      <td>14.615</td>\n",
       "    </tr>\n",
       "    <tr>\n",
       "      <th>Equity(50 [BAC])</th>\n",
       "      <td>12.930</td>\n",
       "    </tr>\n",
       "    <tr>\n",
       "      <th>Equity(62 [C])</th>\n",
       "      <td>48.250</td>\n",
       "    </tr>\n",
       "    <tr>\n",
       "      <th>Equity(160 [GOOG])</th>\n",
       "      <td>22.114</td>\n",
       "    </tr>\n",
       "    <tr>\n",
       "      <th>Equity(161 [GOOGL])</th>\n",
       "      <td>22.219</td>\n",
       "    </tr>\n",
       "  </tbody>\n",
       "</table>\n",
       "</div>"
      ],
      "text/plain": [
       "                                15 Day MCP\n",
       "2013-07-02 Equity(3 [AAPL])         14.615\n",
       "           Equity(50 [BAC])         12.930\n",
       "           Equity(62 [C])           48.250\n",
       "           Equity(160 [GOOG])       22.114\n",
       "           Equity(161 [GOOGL])      22.219"
      ]
     },
     "execution_count": 17,
     "metadata": {},
     "output_type": "execute_result"
    }
   ],
   "source": [
    "# Set starting and end dates\n",
    "start_session = '2013-07-01'\n",
    "end_session = '2017-06-30'\n",
    "\n",
    "start_date = pd.Timestamp(start_session)\n",
    "end_date = pd.Timestamp(end_session)\n",
    "\n",
    "# Run our pipeline for the given start and end dates\n",
    "output = engine.run_pipeline(pipeline, start_date, end_date)\n",
    "\n",
    "# Display the pipeline output\n",
    "output.head()"
   ]
  },
  {
   "cell_type": "code",
   "execution_count": 18,
   "metadata": {},
   "outputs": [
    {
     "data": {
      "image/svg+xml": [
       "<svg xmlns=\"http://www.w3.org/2000/svg\" xmlns:xlink=\"http://www.w3.org/1999/xlink\" width=\"640pt\" height=\"450pt\" viewBox=\"0.00 0.00 640.00 450.00\">\n",
       "<g id=\"graph0\" class=\"graph\" transform=\"scale(1 1) rotate(0) translate(4 446)\">\n",
       "<title>G</title>\n",
       "<polygon fill=\"white\" stroke=\"transparent\" points=\"-4,4 -4,-446 636,-446 636,4 -4,4\"/>\n",
       "<g id=\"clust1\" class=\"cluster\">\n",
       "<title>cluster_Output</title>\n",
       "<polygon fill=\"#ffec8b\" stroke=\"#ffec8b\" points=\"16,-8 16,-159 398,-159 398,-8 16,-8\"/>\n",
       "<text text-anchor=\"middle\" x=\"207\" y=\"-15.8\" font-family=\"Times,serif\" font-size=\"14.00\">Output</text>\n",
       "</g>\n",
       "<g id=\"clust2\" class=\"cluster\">\n",
       "<title>cluster_Input</title>\n",
       "<polygon fill=\"#ffec8b\" stroke=\"#ffec8b\" points=\"8,-342 8,-434 624,-434 624,-342 8,-342\"/>\n",
       "<text text-anchor=\"middle\" x=\"316\" y=\"-418.8\" font-family=\"Times,serif\" font-size=\"14.00\">Input</text>\n",
       "</g>\n",
       "<!-- 139892147472704 -->\n",
       "<g id=\"node1\" class=\"node\">\n",
       "<title>139892147472704</title>\n",
       "<polygon fill=\"#b3cde3\" stroke=\"black\" points=\"206,-151 24,-151 24,-113 206,-113 206,-151\"/>\n",
       "<text text-anchor=\"start\" x=\"32\" y=\"-135.8\" font-family=\"Times,serif\" font-size=\"14.00\">SimpleMovingAverage:</text>\n",
       "<text text-anchor=\"start\" x=\"32\" y=\"-120.8\" font-family=\"Times,serif\" font-size=\"14.00\">  window_length: 15</text>\n",
       "</g>\n",
       "<!-- 139892144274832 -->\n",
       "<g id=\"node2\" class=\"node\">\n",
       "<title>139892144274832</title>\n",
       "<polygon fill=\"#ccebc5\" stroke=\"black\" points=\"191.5,-77 38.5,-77 38.5,-39 191.5,-39 191.5,-77\"/>\n",
       "<text text-anchor=\"start\" x=\"46.5\" y=\"-61.8\" font-family=\"Times,serif\" font-size=\"14.00\">Expression:</text>\n",
       "<text text-anchor=\"start\" x=\"46.5\" y=\"-46.8\" font-family=\"Times,serif\" font-size=\"14.00\">  x_0 &gt; (1.00E+02)</text>\n",
       "</g>\n",
       "<!-- 139892147472704&#45;&gt;139892144274832 -->\n",
       "<g id=\"edge1\" class=\"edge\">\n",
       "<title>139892147472704-&gt;139892144274832</title>\n",
       "<path fill=\"none\" stroke=\"black\" d=\"M115,-112.94C115,-112.94 115,-87.25 115,-87.25\"/>\n",
       "<polygon fill=\"black\" stroke=\"black\" points=\"118.5,-87.25 115,-77.25 111.5,-87.25 118.5,-87.25\"/>\n",
       "</g>\n",
       "<!-- 139892387830560 -->\n",
       "<g id=\"node3\" class=\"node\">\n",
       "<title>139892387830560</title>\n",
       "<polygon fill=\"#ccebc5\" stroke=\"black\" points=\"389.5,-151 224.5,-151 224.5,-113 389.5,-113 389.5,-151\"/>\n",
       "<text text-anchor=\"start\" x=\"232.5\" y=\"-135.8\" font-family=\"Times,serif\" font-size=\"14.00\">Expression:</text>\n",
       "<text text-anchor=\"start\" x=\"232.5\" y=\"-120.8\" font-family=\"Times,serif\" font-size=\"14.00\">  x_0 &lt;= (1.00E+01)</text>\n",
       "</g>\n",
       "<!-- 139892148391456 -->\n",
       "<g id=\"node4\" class=\"node\">\n",
       "<title>139892148391456</title>\n",
       "<polygon fill=\"#fbb4ae\" stroke=\"black\" points=\"204,-403 16,-403 16,-350 204,-350 204,-403\"/>\n",
       "<text text-anchor=\"start\" x=\"24\" y=\"-387.8\" font-family=\"Times,serif\" font-size=\"14.00\">BoundColumn:</text>\n",
       "<text text-anchor=\"start\" x=\"24\" y=\"-372.8\" font-family=\"Times,serif\" font-size=\"14.00\">  Dataset: EquityPricing</text>\n",
       "<text text-anchor=\"start\" x=\"24\" y=\"-357.8\" font-family=\"Times,serif\" font-size=\"14.00\">  Column: close</text>\n",
       "</g>\n",
       "<!-- 139892148391456&#45;&gt;139892147472704 -->\n",
       "<g id=\"edge2\" class=\"edge\">\n",
       "<title>139892148391456-&gt;139892147472704</title>\n",
       "<path fill=\"none\" stroke=\"black\" d=\"M114,-349.87C114,-349.87 114,-161.28 114,-161.28\"/>\n",
       "<polygon fill=\"black\" stroke=\"black\" points=\"117.5,-161.28 114,-151.28 110.5,-161.28 117.5,-161.28\"/>\n",
       "</g>\n",
       "<!-- 139891637756496 -->\n",
       "<g id=\"node5\" class=\"node\">\n",
       "<title>139891637756496</title>\n",
       "<polygon fill=\"#fbb4ae\" stroke=\"black\" points=\"410,-403 222,-403 222,-350 410,-350 410,-403\"/>\n",
       "<text text-anchor=\"start\" x=\"230\" y=\"-387.8\" font-family=\"Times,serif\" font-size=\"14.00\">BoundColumn:</text>\n",
       "<text text-anchor=\"start\" x=\"230\" y=\"-372.8\" font-family=\"Times,serif\" font-size=\"14.00\">  Dataset: EquityPricing</text>\n",
       "<text text-anchor=\"start\" x=\"230\" y=\"-357.8\" font-family=\"Times,serif\" font-size=\"14.00\">  Column: volume</text>\n",
       "</g>\n",
       "<!-- 139892387831520 -->\n",
       "<g id=\"node7\" class=\"node\">\n",
       "<title>139892387831520</title>\n",
       "<polygon fill=\"#b3cde3\" stroke=\"black\" points=\"404,-314 228,-314 228,-276 404,-276 404,-314\"/>\n",
       "<text text-anchor=\"start\" x=\"236\" y=\"-298.8\" font-family=\"Times,serif\" font-size=\"14.00\">AverageDollarVolume:</text>\n",
       "<text text-anchor=\"start\" x=\"236\" y=\"-283.8\" font-family=\"Times,serif\" font-size=\"14.00\">  window_length: 60</text>\n",
       "</g>\n",
       "<!-- 139891637756496&#45;&gt;139892387831520 -->\n",
       "<g id=\"edge6\" class=\"edge\">\n",
       "<title>139891637756496-&gt;139892387831520</title>\n",
       "<path fill=\"none\" stroke=\"black\" d=\"M316,-349.81C316,-349.81 316,-324.25 316,-324.25\"/>\n",
       "<polygon fill=\"black\" stroke=\"black\" points=\"319.5,-324.25 316,-314.25 312.5,-324.25 319.5,-324.25\"/>\n",
       "</g>\n",
       "<!-- 139891637759184 -->\n",
       "<g id=\"node6\" class=\"node\">\n",
       "<title>139891637759184</title>\n",
       "<polygon fill=\"#fbb4ae\" stroke=\"black\" points=\"616,-403 428,-403 428,-350 616,-350 616,-403\"/>\n",
       "<text text-anchor=\"start\" x=\"436\" y=\"-387.8\" font-family=\"Times,serif\" font-size=\"14.00\">BoundColumn:</text>\n",
       "<text text-anchor=\"start\" x=\"436\" y=\"-372.8\" font-family=\"Times,serif\" font-size=\"14.00\">  Dataset: EquityPricing</text>\n",
       "<text text-anchor=\"start\" x=\"436\" y=\"-357.8\" font-family=\"Times,serif\" font-size=\"14.00\">  Column: close</text>\n",
       "</g>\n",
       "<!-- 139891637759184&#45;&gt;139892387831520 -->\n",
       "<g id=\"edge5\" class=\"edge\">\n",
       "<title>139891637759184-&gt;139892387831520</title>\n",
       "<path fill=\"none\" stroke=\"black\" d=\"M522,-349.81C522,-326.05 522,-295 522,-295 522,-295 414.26,-295 414.26,-295\"/>\n",
       "<polygon fill=\"black\" stroke=\"black\" points=\"414.26,-291.5 404.26,-295 414.26,-298.5 414.26,-291.5\"/>\n",
       "</g>\n",
       "<!-- 139892387830608 -->\n",
       "<g id=\"node8\" class=\"node\">\n",
       "<title>139892387830608</title>\n",
       "<polygon fill=\"#b3cde3\" stroke=\"black\" points=\"386.5,-240 231.5,-240 231.5,-187 386.5,-187 386.5,-240\"/>\n",
       "<text text-anchor=\"start\" x=\"239.5\" y=\"-224.8\" font-family=\"Times,serif\" font-size=\"14.00\">Rank:</text>\n",
       "<text text-anchor=\"start\" x=\"239.5\" y=\"-209.8\" font-family=\"Times,serif\" font-size=\"14.00\">  method: 'ordinal'</text>\n",
       "<text text-anchor=\"start\" x=\"239.5\" y=\"-194.8\" font-family=\"Times,serif\" font-size=\"14.00\">  mask: AssetExists</text>\n",
       "</g>\n",
       "<!-- 139892387831520&#45;&gt;139892387830608 -->\n",
       "<g id=\"edge4\" class=\"edge\">\n",
       "<title>139892387831520-&gt;139892387830608</title>\n",
       "<path fill=\"none\" stroke=\"black\" d=\"M309,-275.69C309,-275.69 309,-250.08 309,-250.08\"/>\n",
       "<polygon fill=\"black\" stroke=\"black\" points=\"312.5,-250.08 309,-240.08 305.5,-250.08 312.5,-250.08\"/>\n",
       "</g>\n",
       "<!-- 139892387830608&#45;&gt;139892387830560 -->\n",
       "<g id=\"edge3\" class=\"edge\">\n",
       "<title>139892387830608-&gt;139892387830560</title>\n",
       "<path fill=\"none\" stroke=\"black\" d=\"M309,-186.81C309,-186.81 309,-161.25 309,-161.25\"/>\n",
       "<polygon fill=\"black\" stroke=\"black\" points=\"312.5,-161.25 309,-151.25 305.5,-161.25 312.5,-161.25\"/>\n",
       "</g>\n",
       "</g>\n",
       "</svg>"
      ],
      "text/plain": [
       "<IPython.core.display.SVG object>"
      ]
     },
     "execution_count": 18,
     "metadata": {},
     "output_type": "execute_result"
    }
   ],
   "source": [
    "# Create a Filter that returns True whenever the 15-day average closing price is above $100\n",
    "high_mean = mean_close_15 > 100\n",
    "\n",
    "# Add the filter to our pipeline\n",
    "pipeline.add(high_mean, 'High Mean')\n",
    "\n",
    "# Render the pipeline as a DAG\n",
    "pipeline.show_graph()"
   ]
  },
  {
   "cell_type": "code",
   "execution_count": 21,
   "metadata": {},
   "outputs": [
    {
     "data": {
      "text/html": [
       "<div>\n",
       "<style scoped>\n",
       "    .dataframe tbody tr th:only-of-type {\n",
       "        vertical-align: middle;\n",
       "    }\n",
       "\n",
       "    .dataframe tbody tr th {\n",
       "        vertical-align: top;\n",
       "    }\n",
       "\n",
       "    .dataframe thead th {\n",
       "        text-align: right;\n",
       "    }\n",
       "</style>\n",
       "<table border=\"1\" class=\"dataframe\">\n",
       "  <thead>\n",
       "    <tr style=\"text-align: right;\">\n",
       "      <th></th>\n",
       "      <th></th>\n",
       "      <th>15 Day MCP</th>\n",
       "      <th>High Mean</th>\n",
       "    </tr>\n",
       "  </thead>\n",
       "  <tbody>\n",
       "    <tr>\n",
       "      <th rowspan=\"5\" valign=\"top\">2013-07-02</th>\n",
       "      <th>Equity(3 [AAPL])</th>\n",
       "      <td>14.615</td>\n",
       "      <td>False</td>\n",
       "    </tr>\n",
       "    <tr>\n",
       "      <th>Equity(50 [BAC])</th>\n",
       "      <td>12.930</td>\n",
       "      <td>False</td>\n",
       "    </tr>\n",
       "    <tr>\n",
       "      <th>Equity(62 [C])</th>\n",
       "      <td>48.250</td>\n",
       "      <td>False</td>\n",
       "    </tr>\n",
       "    <tr>\n",
       "      <th>Equity(160 [GOOG])</th>\n",
       "      <td>22.114</td>\n",
       "      <td>False</td>\n",
       "    </tr>\n",
       "    <tr>\n",
       "      <th>Equity(161 [GOOGL])</th>\n",
       "      <td>22.219</td>\n",
       "      <td>False</td>\n",
       "    </tr>\n",
       "  </tbody>\n",
       "</table>\n",
       "</div>"
      ],
      "text/plain": [
       "                                15 Day MCP  High Mean\n",
       "2013-07-02 Equity(3 [AAPL])         14.615      False\n",
       "           Equity(50 [BAC])         12.930      False\n",
       "           Equity(62 [C])           48.250      False\n",
       "           Equity(160 [GOOG])       22.114      False\n",
       "           Equity(161 [GOOGL])      22.219      False"
      ]
     },
     "execution_count": 21,
     "metadata": {},
     "output_type": "execute_result"
    }
   ],
   "source": [
    "# Set starting and end dates\n",
    "start_session = '2013-07-01'\n",
    "end_session = '2017-06-30'\n",
    "\n",
    "start_date = pd.Timestamp(start_session)\n",
    "end_date = pd.Timestamp(end_session)\n",
    "# Run our pipeline for the given start and end dates\n",
    "output = engine.run_pipeline(pipeline, start_date, end_date)\n",
    "\n",
    "# Display the pipeline output\n",
    "output.head()"
   ]
  },
  {
   "cell_type": "markdown",
   "metadata": {},
   "source": [
    "### Pipeline Example using run_aglorithm"
   ]
  },
  {
   "cell_type": "code",
   "execution_count": 1,
   "metadata": {},
   "outputs": [
    {
     "name": "stderr",
     "output_type": "stream",
     "text": [
      "/home/ankit/.zipline/extension.py:25: UserWarning: Overwriting bundle with name 'yahoo_NYSE'\n",
      "  register(\n",
      "/tmp/ipykernel_2765/2251202757.py:28: FutureWarning: Series.__getitem__ treating keys as positions is deprecated. In a future version, integer keys will always be treated as labels (consistent with DataFrame behavior). To access a value by position, use `ser.iloc[pos]`\n",
      "  if equities_hist[-1]> equities_hist.mean():\n",
      "/home/ankit/miniconda3/envs/ML/lib/python3.9/site-packages/zipline/finance/ledger.py:424: FutureWarning: Series.__setitem__ treating keys as positions is deprecated. In a future version, integer keys will always be treated as labels (consistent with DataFrame behavior). To set a value by position, use `ser.iloc[pos] = value`\n",
      "  self.daily_returns_series[session_ix] = self.todays_returns\n",
      "/home/ankit/miniconda3/envs/ML/lib/python3.9/site-packages/pyfolio/plotting.py:650: FutureWarning: Setting an item of incompatible dtype is deprecated and will raise an error in a future version of pandas. Value '-21.4%' has dtype incompatible with float64, please explicitly cast to a compatible dtype first.\n",
      "  perf_stats.loc[stat, column] = str(np.round(value * 100,\n"
     ]
    },
    {
     "data": {
      "text/html": [
       "<table border=\"1\" class=\"dataframe\">\n",
       "  <thead>\n",
       "    <tr style=\"text-align: right;\"><th>Start date</th><td colspan=2>2014-01-02</td></tr>\n",
       "    <tr style=\"text-align: right;\"><th>End date</th><td colspan=2>2014-12-31</td></tr>\n",
       "    <tr style=\"text-align: right;\"><th>Total months</th><td colspan=2>12</td></tr>\n",
       "    <tr style=\"text-align: right;\">\n",
       "      <th></th>\n",
       "      <th>Backtest</th>\n",
       "    </tr>\n",
       "  </thead>\n",
       "  <tbody>\n",
       "    <tr>\n",
       "      <th>Annual return</th>\n",
       "      <td>-21.4%</td>\n",
       "    </tr>\n",
       "    <tr>\n",
       "      <th>Cumulative returns</th>\n",
       "      <td>-21.4%</td>\n",
       "    </tr>\n",
       "    <tr>\n",
       "      <th>Annual volatility</th>\n",
       "      <td>16.8%</td>\n",
       "    </tr>\n",
       "    <tr>\n",
       "      <th>Sharpe ratio</th>\n",
       "      <td>-1.35</td>\n",
       "    </tr>\n",
       "    <tr>\n",
       "      <th>Calmar ratio</th>\n",
       "      <td>-0.81</td>\n",
       "    </tr>\n",
       "    <tr>\n",
       "      <th>Stability</th>\n",
       "      <td>0.89</td>\n",
       "    </tr>\n",
       "    <tr>\n",
       "      <th>Max drawdown</th>\n",
       "      <td>-26.6%</td>\n",
       "    </tr>\n",
       "    <tr>\n",
       "      <th>Omega ratio</th>\n",
       "      <td>0.73</td>\n",
       "    </tr>\n",
       "    <tr>\n",
       "      <th>Sortino ratio</th>\n",
       "      <td>-1.65</td>\n",
       "    </tr>\n",
       "    <tr>\n",
       "      <th>Skew</th>\n",
       "      <td>-1.84</td>\n",
       "    </tr>\n",
       "    <tr>\n",
       "      <th>Kurtosis</th>\n",
       "      <td>13.36</td>\n",
       "    </tr>\n",
       "    <tr>\n",
       "      <th>Tail ratio</th>\n",
       "      <td>0.82</td>\n",
       "    </tr>\n",
       "    <tr>\n",
       "      <th>Daily value at risk</th>\n",
       "      <td>-2.2%</td>\n",
       "    </tr>\n",
       "  </tbody>\n",
       "</table>"
      ],
      "text/plain": [
       "<IPython.core.display.HTML object>"
      ]
     },
     "metadata": {},
     "output_type": "display_data"
    },
    {
     "data": {
      "image/png": "[encoded data removed]",
      "text/plain": [
       "<Figure size 1400x2400 with 3 Axes>"
      ]
     },
     "metadata": {},
     "output_type": "display_data"
    }
   ],
   "source": [
    "import pandas as pd\n",
    "from zipline.api import order, record, symbol, schedule_function, attach_pipeline, pipeline_output,order_target_percent\n",
    "from zipline.utils.events import date_rules, time_rules\n",
    "from zipline import run_algorithm\n",
    "from zipline.data.bundles import register\n",
    "from zipline.utils.calendar_utils import get_calendar\n",
    "from zipline.utils.events import date_rules, time_rules\n",
    "from zipline.utils.cli import maybe_show_progress\n",
    "from zipline.data.bundles import register\n",
    "from zipline.data.bundles.csvdir import csvdir_equities\n",
    "from zipline.pipeline.factors import AverageDollarVolume\n",
    "from zipline.pipeline import Pipeline\n",
    "import pyfolio as pf\n",
    "import pytz\n",
    "\n",
    "from datetime import datetime\n",
    "\n",
    "# Define your trading algorithm\n",
    "def initialize(context):\n",
    "    context.asset = symbol('A')\n",
    "    \n",
    "    context.index_average_window = 100\n",
    "\n",
    "def handle_data(context, data):\n",
    "    # Get the average dollar volume for the index\n",
    "    equities_hist = data.history(context.asset, 'close', context.index_average_window, '1d')\n",
    "    \n",
    "    if equities_hist[-1]> equities_hist.mean():\n",
    "        order_target_percent(context.asset, 1)\n",
    "    else:\n",
    "        order_target_percent(context.asset, 0)\n",
    "\n",
    "\n",
    "def analyze(context,perf):\n",
    "    returns, positions, transactions = pf.utils.extract_rets_pos_txn_from_zipline(perf)\n",
    "\n",
    "    pf.create_simple_tear_sheet(returns)\n",
    "\n",
    "\n",
    "# Define the start and end dates for the backtest\n",
    "start = pd.Timestamp('2014-1-1').replace(tzinfo=None)\n",
    "end = pd.Timestamp('2015-1-1').replace(tzinfo=None)\n",
    "\n",
    "# Register the custom data bundle\n",
    "# Run the backtest\n",
    "data = run_algorithm(\n",
    "    start=start,\n",
    "    end=end,\n",
    "    initialize=initialize,\n",
    "    analyze=analyze,\n",
    "    handle_data=handle_data,\n",
    "    bundle='yahoo_NYSE',\n",
    "    data_frequency='daily',\n",
    "    capital_base=10000,\n",
    ")\n",
    "\n",
    "# # Print the results\n",
    "# print(data.head())\n"
   ]
  }
 ],
 "metadata": {
  "kernelspec": {
   "display_name": "Finance",
   "language": "python",
   "name": "python3"
  },
  "language_info": {
   "codemirror_mode": {
    "name": "ipython",
    "version": 3
   },
   "file_extension": ".py",
   "mimetype": "text/x-python",
   "name": "python",
   "nbconvert_exporter": "python",
   "pygments_lexer": "ipython3",
   "version": "3.9.18"
  }
 },
 "nbformat": 4,
 "nbformat_minor": 2
}
