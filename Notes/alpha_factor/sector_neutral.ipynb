{
 "cells": [
  {
   "cell_type": "markdown",
   "metadata": {},
   "source": [
    "# Sector Neutral"
   ]
  },
  {
   "cell_type": "markdown",
   "metadata": {},
   "source": [
    "## Save sectors"
   ]
  },
  {
   "cell_type": "code",
   "execution_count": 2,
   "metadata": {},
   "outputs": [
    {
     "name": "stderr",
     "output_type": "stream",
     "text": [
      " 75%|███████▌  | 306/408 [02:12<00:25,  4.00it/s]404 Client Error: Not Found for url: https://query2.finance.yahoo.com/v10/finance/quoteSummary/WRK?modules=financialData%2CquoteType%2CdefaultKeyStatistics%2CassetProfile%2CsummaryDetail&corsDomain=finance.yahoo.com&formatted=false&symbol=WRK&crumb=ru9VLulzJiF\n",
      "100%|██████████| 408/408 [02:42<00:00,  2.50it/s]\n"
     ]
    }
   ],
   "source": [
    "import os\n",
    "import yfinance as yf\n",
    "# get list of files in ../data/ directory\n",
    "import glob\n",
    "import pandas as pd\n",
    "import sys\n",
    "import tqdm\n",
    "\n",
    "# get file name of files in a directory\n",
    "\n",
    "tickers = [file.split('.')[0] for file in os.listdir('../../Data/data/eod-quotemedia/daily')]\n",
    "\n",
    "sectors=[]\n",
    "tickr=[]\n",
    "for ticker in tqdm.tqdm(tickers):\n",
    "    tick = yf.Ticker(ticker)\n",
    "    try:\n",
    "        sectors.append(tick.info['sector'])\n",
    "        tickr.append(ticker)\n",
    "    except:\n",
    "        sectors.append('Others')\n",
    "        tickr.append(ticker)\n",
    "\n",
    "ticker_data = pd.DataFrame({'ticker': tickr, 'sector': sectors}).to_csv('../../Data/sectors.csv',index=False)"
   ]
  },
  {
   "cell_type": "code",
   "execution_count": null,
   "metadata": {},
   "outputs": [],
   "source": [
    "!{sys.executable} -m pip install -r requirements.txt"
   ]
  },
  {
   "cell_type": "code",
   "execution_count": 1,
   "metadata": {},
   "outputs": [],
   "source": [
    "import cvxpy as cvx\n",
    "import numpy as np\n",
    "import pandas as pd\n",
    "import time\n",
    "import os\n",
    "import matplotlib.pyplot as plt"
   ]
  },
  {
   "cell_type": "code",
   "execution_count": 2,
   "metadata": {},
   "outputs": [],
   "source": [
    "%matplotlib inline\n",
    "plt.style.use('ggplot')\n",
    "plt.rcParams['figure.figsize'] = (14, 8)"
   ]
  },
  {
   "cell_type": "markdown",
   "metadata": {},
   "source": [
    "## following zipline bundle documentation\n",
    "\n",
    "http://www.zipline.io/bundles.html#ingesting-data-from-csv-files"
   ]
  },
  {
   "cell_type": "markdown",
   "metadata": {},
   "source": [
    "### data bundle"
   ]
  },
  {
   "cell_type": "markdown",
   "metadata": {},
   "source": [
    "# Get Returns data"
   ]
  },
  {
   "cell_type": "code",
   "execution_count": 57,
   "metadata": {},
   "outputs": [
    {
     "name": "stderr",
     "output_type": "stream",
     "text": [
      "/tmp/ipykernel_610/2942702932.py:42: UserWarning: Overwriting bundle with name 'yahoo_NYSE'\n",
      "  register(\n"
     ]
    }
   ],
   "source": [
    "import numpy as np\n",
    "import pandas as pd\n",
    "import time\n",
    "import os\n",
    "import matplotlib.pyplot as plt\n",
    "import os\n",
    "from zipline.data import bundles\n",
    "import zipline.data.bundles as bundles\n",
    "import pandas as pd\n",
    "from zipline.data.bundles import register, yahoo_NYSE, csvdir\n",
    "from zipline.pipeline import Pipeline\n",
    "from zipline.pipeline.factors import AverageDollarVolume\n",
    "from zipline.utils.calendar_utils import get_calendar\n",
    "from zipline.pipeline import engine as pipeline_engine\n",
    "from zipline.pipeline.loaders import USEquityPricingLoader\n",
    "from zipline.pipeline.data import USEquityPricing\n",
    "from zipline.pipeline.domain import US_EQUITIES\n",
    "from zipline.data.data_portal import DataPortal\n",
    "\n",
    "\n",
    "def get_pricing(data_portal, trading_calendar, assets, start_date, end_date, field='close'):\n",
    "    end_dt = pd.Timestamp(end_date.strftime('%Y-%m-%d'))\n",
    "    start_dt = pd.Timestamp(start_date.strftime('%Y-%m-%d'))\n",
    "\n",
    "    end_loc = trading_calendar.closes.index.get_loc(end_dt)\n",
    "    start_loc = trading_calendar.closes.index.get_loc(start_dt)\n",
    "\n",
    "    return data_portal.get_history_window(\n",
    "        assets=assets,\n",
    "        end_dt=end_dt,\n",
    "        bar_count=end_loc - start_loc,\n",
    "        frequency='1d',\n",
    "        field=field,\n",
    "        data_frequency='daily')\n",
    "\n",
    "def choose_price_loader(column):\n",
    "        if column not in USEquityPricing.columns:\n",
    "            print(\"Column not in USEquityPricing.columns\")\n",
    "        return pricing_loader\n",
    "\n",
    "\n",
    "register(\n",
    "        'yahoo_NYSE',\n",
    "        yahoo_NYSE.yahoo_NYSE(\n",
    "            tframes=[\"daily\"],\n",
    "            csvdir=\"/home/ankit/AI_for_trading/Data/data/eod-quotemedia/\"\n",
    "        )\n",
    "    )\n",
    "\n",
    "bundle_data = bundles.load('yahoo_NYSE')\n",
    "    ### Build pipeline engine\n",
    "\n",
    "    \n",
    "\n",
    "universe = AverageDollarVolume(window_length=120).top(500) \n",
    "trading_calendar = get_calendar('NYSE') \n",
    "\n",
    "# Set the dataloader\n",
    "pricing_loader = USEquityPricingLoader(bundle_data.equity_daily_bar_reader, bundle_data.adjustment_reader,fx_reader=None)\n",
    "\n",
    "\n",
    "engine = pipeline_engine.SimplePipelineEngine(choose_price_loader,asset_finder=bundle_data.asset_finder)\n",
    "\n",
    "\n",
    "universe_end_date = pd.Timestamp('2017-01-06')\n",
    "\n",
    "universe_tickers = engine\\\n",
    "        .run_pipeline(\n",
    "            Pipeline(screen=universe,domain=US_EQUITIES),\n",
    "            universe_end_date,\n",
    "            universe_end_date)\\\n",
    "        .index.get_level_values(1)\\\n",
    "        .values.tolist()\n",
    "        \n",
    "\n",
    "data_portal = DataPortal(\n",
    "        bundle_data.asset_finder,\n",
    "        trading_calendar=trading_calendar,\n",
    "        first_trading_day=bundle_data.equity_daily_bar_reader.first_trading_day,\n",
    "        equity_minute_reader=None,\n",
    "        equity_daily_reader=bundle_data.equity_daily_bar_reader,\n",
    "        adjustment_reader=bundle_data.adjustment_reader)\n",
    "\n",
    "\n",
    "\n",
    "returns =  get_pricing(\n",
    "            data_portal,\n",
    "            trading_calendar,\n",
    "            universe_tickers,\n",
    "            universe_end_date - pd.DateOffset(years=2),\n",
    "            universe_end_date)\\\n",
    "        .pct_change()[1:].fillna(0) #convert prices into returns\n",
    "\n",
    "   "
   ]
  },
  {
   "cell_type": "code",
   "execution_count": 4,
   "metadata": {},
   "outputs": [
    {
     "data": {
      "text/html": [
       "<div>\n",
       "<style scoped>\n",
       "    .dataframe tbody tr th:only-of-type {\n",
       "        vertical-align: middle;\n",
       "    }\n",
       "\n",
       "    .dataframe tbody tr th {\n",
       "        vertical-align: top;\n",
       "    }\n",
       "\n",
       "    .dataframe thead th {\n",
       "        text-align: right;\n",
       "    }\n",
       "</style>\n",
       "<table border=\"1\" class=\"dataframe\">\n",
       "  <thead>\n",
       "    <tr style=\"text-align: right;\">\n",
       "      <th></th>\n",
       "      <th>Equity(0 [A])</th>\n",
       "      <th>Equity(1 [AAL])</th>\n",
       "      <th>Equity(2 [AAP])</th>\n",
       "      <th>Equity(3 [AAPL])</th>\n",
       "      <th>Equity(4 [ABBV])</th>\n",
       "      <th>Equity(5 [ABT])</th>\n",
       "      <th>Equity(6 [ACN])</th>\n",
       "      <th>Equity(7 [ADBE])</th>\n",
       "      <th>Equity(8 [ADI])</th>\n",
       "      <th>Equity(9 [ADM])</th>\n",
       "      <th>...</th>\n",
       "      <th>Equity(398 [WYNN])</th>\n",
       "      <th>Equity(399 [XEL])</th>\n",
       "      <th>Equity(400 [XOM])</th>\n",
       "      <th>Equity(401 [XRAY])</th>\n",
       "      <th>Equity(402 [XRX])</th>\n",
       "      <th>Equity(403 [XYL])</th>\n",
       "      <th>Equity(404 [YUM])</th>\n",
       "      <th>Equity(405 [ZBH])</th>\n",
       "      <th>Equity(406 [ZION])</th>\n",
       "      <th>Equity(407 [ZTS])</th>\n",
       "    </tr>\n",
       "  </thead>\n",
       "  <tbody>\n",
       "    <tr>\n",
       "      <th>2015-01-08</th>\n",
       "      <td>0.029975</td>\n",
       "      <td>0.012262</td>\n",
       "      <td>0.008765</td>\n",
       "      <td>0.038384</td>\n",
       "      <td>0.010459</td>\n",
       "      <td>0.020554</td>\n",
       "      <td>0.015249</td>\n",
       "      <td>0.025454</td>\n",
       "      <td>0.017655</td>\n",
       "      <td>-0.014609</td>\n",
       "      <td>...</td>\n",
       "      <td>0.012031</td>\n",
       "      <td>0.011599</td>\n",
       "      <td>0.016645</td>\n",
       "      <td>0.024689</td>\n",
       "      <td>0.027531</td>\n",
       "      <td>0.007546</td>\n",
       "      <td>0.017404</td>\n",
       "      <td>0.010623</td>\n",
       "      <td>0.013994</td>\n",
       "      <td>0.015399</td>\n",
       "    </tr>\n",
       "    <tr>\n",
       "      <th>2015-01-09</th>\n",
       "      <td>-0.007337</td>\n",
       "      <td>-0.030563</td>\n",
       "      <td>-0.005089</td>\n",
       "      <td>0.001108</td>\n",
       "      <td>-0.027355</td>\n",
       "      <td>-0.010508</td>\n",
       "      <td>-0.001113</td>\n",
       "      <td>-0.014811</td>\n",
       "      <td>-0.000730</td>\n",
       "      <td>-0.008530</td>\n",
       "      <td>...</td>\n",
       "      <td>0.012499</td>\n",
       "      <td>-0.012285</td>\n",
       "      <td>-0.001410</td>\n",
       "      <td>-0.014569</td>\n",
       "      <td>-0.005798</td>\n",
       "      <td>-0.018863</td>\n",
       "      <td>-0.001758</td>\n",
       "      <td>-0.014427</td>\n",
       "      <td>-0.027975</td>\n",
       "      <td>0.001584</td>\n",
       "    </tr>\n",
       "    <tr>\n",
       "      <th>2015-01-12</th>\n",
       "      <td>-0.011826</td>\n",
       "      <td>-0.046905</td>\n",
       "      <td>-0.008546</td>\n",
       "      <td>-0.024676</td>\n",
       "      <td>-0.000304</td>\n",
       "      <td>0.008407</td>\n",
       "      <td>-0.003007</td>\n",
       "      <td>-0.010022</td>\n",
       "      <td>-0.010051</td>\n",
       "      <td>-0.012495</td>\n",
       "      <td>...</td>\n",
       "      <td>-0.003958</td>\n",
       "      <td>-0.008845</td>\n",
       "      <td>-0.019218</td>\n",
       "      <td>-0.009477</td>\n",
       "      <td>-0.010199</td>\n",
       "      <td>-0.021770</td>\n",
       "      <td>-0.007480</td>\n",
       "      <td>0.002370</td>\n",
       "      <td>-0.015349</td>\n",
       "      <td>-0.018757</td>\n",
       "    </tr>\n",
       "    <tr>\n",
       "      <th>2015-01-13</th>\n",
       "      <td>-0.013962</td>\n",
       "      <td>0.016539</td>\n",
       "      <td>-0.032530</td>\n",
       "      <td>0.008897</td>\n",
       "      <td>-0.036040</td>\n",
       "      <td>-0.021281</td>\n",
       "      <td>0.003575</td>\n",
       "      <td>-0.007452</td>\n",
       "      <td>-0.011445</td>\n",
       "      <td>0.001452</td>\n",
       "      <td>...</td>\n",
       "      <td>0.009093</td>\n",
       "      <td>0.008087</td>\n",
       "      <td>-0.003653</td>\n",
       "      <td>-0.003062</td>\n",
       "      <td>0.005166</td>\n",
       "      <td>0.002312</td>\n",
       "      <td>-0.004121</td>\n",
       "      <td>0.002191</td>\n",
       "      <td>-0.017147</td>\n",
       "      <td>-0.014049</td>\n",
       "    </tr>\n",
       "    <tr>\n",
       "      <th>2015-01-14</th>\n",
       "      <td>-0.012389</td>\n",
       "      <td>-0.019643</td>\n",
       "      <td>-0.019056</td>\n",
       "      <td>-0.003811</td>\n",
       "      <td>0.004890</td>\n",
       "      <td>-0.007397</td>\n",
       "      <td>-0.011689</td>\n",
       "      <td>-0.008500</td>\n",
       "      <td>-0.000747</td>\n",
       "      <td>-0.017191</td>\n",
       "      <td>...</td>\n",
       "      <td>-0.008077</td>\n",
       "      <td>0.008852</td>\n",
       "      <td>-0.002889</td>\n",
       "      <td>-0.014587</td>\n",
       "      <td>0.004389</td>\n",
       "      <td>-0.006344</td>\n",
       "      <td>-0.004138</td>\n",
       "      <td>-0.013219</td>\n",
       "      <td>-0.017050</td>\n",
       "      <td>0.005139</td>\n",
       "    </tr>\n",
       "  </tbody>\n",
       "</table>\n",
       "<p>5 rows × 408 columns</p>\n",
       "</div>"
      ],
      "text/plain": [
       "            Equity(0 [A])  Equity(1 [AAL])  Equity(2 [AAP])  Equity(3 [AAPL])  \\\n",
       "2015-01-08       0.029975         0.012262         0.008765          0.038384   \n",
       "2015-01-09      -0.007337        -0.030563        -0.005089          0.001108   \n",
       "2015-01-12      -0.011826        -0.046905        -0.008546         -0.024676   \n",
       "2015-01-13      -0.013962         0.016539        -0.032530          0.008897   \n",
       "2015-01-14      -0.012389        -0.019643        -0.019056         -0.003811   \n",
       "\n",
       "            Equity(4 [ABBV])  Equity(5 [ABT])  Equity(6 [ACN])  \\\n",
       "2015-01-08          0.010459         0.020554         0.015249   \n",
       "2015-01-09         -0.027355        -0.010508        -0.001113   \n",
       "2015-01-12         -0.000304         0.008407        -0.003007   \n",
       "2015-01-13         -0.036040        -0.021281         0.003575   \n",
       "2015-01-14          0.004890        -0.007397        -0.011689   \n",
       "\n",
       "            Equity(7 [ADBE])  Equity(8 [ADI])  Equity(9 [ADM])  ...  \\\n",
       "2015-01-08          0.025454         0.017655        -0.014609  ...   \n",
       "2015-01-09         -0.014811        -0.000730        -0.008530  ...   \n",
       "2015-01-12         -0.010022        -0.010051        -0.012495  ...   \n",
       "2015-01-13         -0.007452        -0.011445         0.001452  ...   \n",
       "2015-01-14         -0.008500        -0.000747        -0.017191  ...   \n",
       "\n",
       "            Equity(398 [WYNN])  Equity(399 [XEL])  Equity(400 [XOM])  \\\n",
       "2015-01-08            0.012031           0.011599           0.016645   \n",
       "2015-01-09            0.012499          -0.012285          -0.001410   \n",
       "2015-01-12           -0.003958          -0.008845          -0.019218   \n",
       "2015-01-13            0.009093           0.008087          -0.003653   \n",
       "2015-01-14           -0.008077           0.008852          -0.002889   \n",
       "\n",
       "            Equity(401 [XRAY])  Equity(402 [XRX])  Equity(403 [XYL])  \\\n",
       "2015-01-08            0.024689           0.027531           0.007546   \n",
       "2015-01-09           -0.014569          -0.005798          -0.018863   \n",
       "2015-01-12           -0.009477          -0.010199          -0.021770   \n",
       "2015-01-13           -0.003062           0.005166           0.002312   \n",
       "2015-01-14           -0.014587           0.004389          -0.006344   \n",
       "\n",
       "            Equity(404 [YUM])  Equity(405 [ZBH])  Equity(406 [ZION])  \\\n",
       "2015-01-08           0.017404           0.010623            0.013994   \n",
       "2015-01-09          -0.001758          -0.014427           -0.027975   \n",
       "2015-01-12          -0.007480           0.002370           -0.015349   \n",
       "2015-01-13          -0.004121           0.002191           -0.017147   \n",
       "2015-01-14          -0.004138          -0.013219           -0.017050   \n",
       "\n",
       "            Equity(407 [ZTS])  \n",
       "2015-01-08           0.015399  \n",
       "2015-01-09           0.001584  \n",
       "2015-01-12          -0.018757  \n",
       "2015-01-13          -0.014049  \n",
       "2015-01-14           0.005139  \n",
       "\n",
       "[5 rows x 408 columns]"
      ]
     },
     "execution_count": 4,
     "metadata": {},
     "output_type": "execute_result"
    }
   ],
   "source": [
    "returns.head()"
   ]
  },
  {
   "cell_type": "markdown",
   "metadata": {},
   "source": [
    "## Sector data helper function\n",
    "We'll create an object for you, which defines a sector for each stock.  The sectors are represented by integers.  We inherit from the Classifier class.  [Documentation for Classifier](https://www.quantopian.com/posts/pipeline-classifiers-are-here), and the [source code for Classifier](https://github.com/quantopian/zipline/blob/master/zipline/pipeline/classifiers/classifier.py)"
   ]
  },
  {
   "cell_type": "code",
   "execution_count": 59,
   "metadata": {},
   "outputs": [],
   "source": [
    "import pandas as pd\n",
    "import numpy as np\n",
    "from zipline.pipeline.classifiers import Classifier\n",
    "from zipline.utils.numpy_utils import int64_dtype\n",
    "\n",
    "class Sector(Classifier):\n",
    "    dtype = int64_dtype  # Assuming sector IDs are integers\n",
    "    window_length = 0\n",
    "    inputs = ()\n",
    "    missing_value = -1  # Use -1 for missing sectors\n",
    "\n",
    "    def __init__(self):\n",
    "\n",
    "        asset_finder = bundle_data.asset_finder\n",
    "\n",
    "        # Load the CSV with stock symbols and sector IDs\n",
    "        self.sector_data = pd.read_csv('../../Data/sectors.csv').set_index('ticker')['sector'].to_dict()\n",
    "\n",
    "       # Create a reverse mapping from SIDs to symbols\n",
    "        self.symbol_to_sector = self.sector_data\n",
    "        self.asset_finder = asset_finder\n",
    "\n",
    "    def _compute(self, arrays, dates, assets, mask):\n",
    "\n",
    "        \n",
    "        # Check the type of assets\n",
    "        # Convert zipline assets (Asset objects) to stock symbols\n",
    "        symbols = [self.asset_finder.retrieve_asset(asset).symbol for asset in assets]\n",
    "       \n",
    "\n",
    "        # Map symbols to their sector IDs using the CSV data\n",
    "        sectors = np.array([self.sector_data.get(symbol, self.missing_value) for symbol in symbols])\n",
    "\n",
    "\n",
    "        # Return sectors where mask is True, otherwise return missing_value\n",
    "        return np.where(mask, sectors, self.missing_value)\n"
   ]
  },
  {
   "cell_type": "markdown",
   "metadata": {},
   "source": [
    "## Create an alpha factor based on momentum\n",
    "\n",
    "We want to calculate the one-year return.  \n",
    "In other words, get the close price of today, minus the close price of 252 trading days ago, and divide by that price from 252 days ago.\n",
    "\n",
    "$1YearReturn_t = \\frac{price_{t} - price_{t-252}}{price_{t-252}}$"
   ]
  },
  {
   "cell_type": "code",
   "execution_count": 60,
   "metadata": {},
   "outputs": [],
   "source": [
    "from zipline.pipeline.factors import Returns"
   ]
  },
  {
   "cell_type": "markdown",
   "metadata": {},
   "source": [
    "## We'll use 2 years of data to calculate the factor"
   ]
  },
  {
   "cell_type": "markdown",
   "metadata": {},
   "source": [
    "**Note:** Going back 2 years falls on a day when the market is closed. Pipeline package doesn't handle start or end dates that don't fall on days when the market is open. To fix this, we went back 2 extra days to fall on the next day when the market is open."
   ]
  },
  {
   "cell_type": "code",
   "execution_count": 61,
   "metadata": {},
   "outputs": [
    {
     "data": {
      "text/plain": [
       "Timestamp('2015-01-06 00:00:00')"
      ]
     },
     "execution_count": 61,
     "metadata": {},
     "output_type": "execute_result"
    }
   ],
   "source": [
    "universe_end_date = pd.Timestamp('2017-01-06')\n",
    "\n",
    "factor_start_date = universe_end_date - pd.DateOffset(years=2)\n",
    "factor_start_date"
   ]
  },
  {
   "cell_type": "code",
   "execution_count": 62,
   "metadata": {},
   "outputs": [],
   "source": [
    "## 1 year returns can be the basis for an alpha factor\n",
    "p1 = Pipeline(screen=universe,domain=US_EQUITIES)\n",
    "rets1 = Returns(window_length=252, mask=universe)\n",
    "p1.add(rets1,\"1YearReturns\")\n",
    "df1 = engine.run_pipeline(p1, factor_start_date, universe_end_date)"
   ]
  },
  {
   "cell_type": "code",
   "execution_count": 63,
   "metadata": {},
   "outputs": [],
   "source": [
    "#graphviz lets us visualize the pipeline\n",
    "import graphviz"
   ]
  },
  {
   "cell_type": "code",
   "execution_count": 64,
   "metadata": {},
   "outputs": [
    {
     "data": {
      "image/png": "[encoded data removed]",
      "text/plain": [
       "<IPython.core.display.Image object>"
      ]
     },
     "execution_count": 64,
     "metadata": {},
     "output_type": "execute_result"
    }
   ],
   "source": [
    "p1.show_graph(format='png')"
   ]
  },
  {
   "cell_type": "markdown",
   "metadata": {},
   "source": [
    "## View the data of the factor"
   ]
  },
  {
   "cell_type": "code",
   "execution_count": 65,
   "metadata": {},
   "outputs": [
    {
     "data": {
      "text/html": [
       "<div>\n",
       "<style scoped>\n",
       "    .dataframe tbody tr th:only-of-type {\n",
       "        vertical-align: middle;\n",
       "    }\n",
       "\n",
       "    .dataframe tbody tr th {\n",
       "        vertical-align: top;\n",
       "    }\n",
       "\n",
       "    .dataframe thead th {\n",
       "        text-align: right;\n",
       "    }\n",
       "</style>\n",
       "<table border=\"1\" class=\"dataframe\">\n",
       "  <thead>\n",
       "    <tr style=\"text-align: right;\">\n",
       "      <th></th>\n",
       "      <th></th>\n",
       "      <th>1YearReturns</th>\n",
       "    </tr>\n",
       "  </thead>\n",
       "  <tbody>\n",
       "    <tr>\n",
       "      <th rowspan=\"5\" valign=\"top\">2015-01-06</th>\n",
       "      <th>Equity(0 [A])</th>\n",
       "      <td>-0.017648</td>\n",
       "    </tr>\n",
       "    <tr>\n",
       "      <th>Equity(1 [AAL])</th>\n",
       "      <td>0.993341</td>\n",
       "    </tr>\n",
       "    <tr>\n",
       "      <th>Equity(2 [AAP])</th>\n",
       "      <td>0.399553</td>\n",
       "    </tr>\n",
       "    <tr>\n",
       "      <th>Equity(3 [AAPL])</th>\n",
       "      <td>0.367343</td>\n",
       "    </tr>\n",
       "    <tr>\n",
       "      <th>Equity(4 [ABBV])</th>\n",
       "      <td>0.282993</td>\n",
       "    </tr>\n",
       "  </tbody>\n",
       "</table>\n",
       "</div>"
      ],
      "text/plain": [
       "                             1YearReturns\n",
       "2015-01-06 Equity(0 [A])        -0.017648\n",
       "           Equity(1 [AAL])       0.993341\n",
       "           Equity(2 [AAP])       0.399553\n",
       "           Equity(3 [AAPL])      0.367343\n",
       "           Equity(4 [ABBV])      0.282993"
      ]
     },
     "execution_count": 65,
     "metadata": {},
     "output_type": "execute_result"
    }
   ],
   "source": [
    "df1.head()"
   ]
  },
  {
   "cell_type": "markdown",
   "metadata": {},
   "source": [
    "## Explore the demean function\n",
    "\n",
    "The Returns class inherits from zipline.pipeline.factors.factor.  \n",
    "[The documentation for demean is located here](https://www.zipline.io/appendix.html#zipline.pipeline.factors.Factor.demean), and is also pasted below:\n",
    "\n",
    "```\n",
    "demean(mask=sentinel('NotSpecified'), groupby=sentinel('NotSpecified'))[source]\n",
    "Construct a Factor that computes self and subtracts the mean from row of the result.\n",
    "\n",
    "If mask is supplied, ignore values where mask returns False when computing row means, and output NaN anywhere the mask is False.\n",
    "\n",
    "If groupby is supplied, compute by partitioning each row based on the values produced by groupby, de-meaning the partitioned arrays, and stitching the sub-results back together.\n",
    "\n",
    "Parameters:\t\n",
    "mask (zipline.pipeline.Filter, optional) – A Filter defining values to ignore when computing means.\n",
    "groupby (zipline.pipeline.Classifier, optional) – A classifier defining partitions over which to compute means.\n",
    "```"
   ]
  },
  {
   "cell_type": "markdown",
   "metadata": {},
   "source": [
    "## Quiz 2\n",
    "\n",
    "By looking at the documentation, and then the source code for `demean`, what are two parameters for this function?  Which one or ones would you call if you wanted to demean by sector and wish to demean for all values in the chosen universe?\n",
    "\n",
    "[The source code](https://www.zipline.io/_modules/zipline/pipeline/factors/factor.html#Factor.demean) has useful comments to help you answer this question."
   ]
  },
  {
   "cell_type": "markdown",
   "metadata": {},
   "source": [
    "### Answer\n",
    "We would use the groupby parameter, and we don't need to use the mask parameter, since we are not going to exclude any of the stocks in the universe from the demean calculation."
   ]
  },
  {
   "cell_type": "markdown",
   "metadata": {},
   "source": [
    "## Quiz 3\n",
    "Turn 1 year returns into an alpha factor\n",
    "\n",
    "We can do some processing to convert our signal (1 year return) into an alpha factor. One step is to demean by sector.\n",
    "\n",
    "* demean\n",
    "For each stock, we want to take the average return of stocks that are in the same sector, and then remove this from the return of each individual stock."
   ]
  },
  {
   "cell_type": "markdown",
   "metadata": {},
   "source": [
    "## Answer 3"
   ]
  },
  {
   "cell_type": "code",
   "execution_count": 66,
   "metadata": {},
   "outputs": [],
   "source": [
    "# create a pipeline called p2\n",
    "p2 = Pipeline(screen=universe,domain=US_EQUITIES)\n",
    "# create a factor of one year returns, deman by sector\n",
    "factor_demean_by_sector = (\n",
    "    Returns(window_length=252, mask=universe).\n",
    "    demean(groupby=Sector()) )\n",
    "\n",
    "# add the factor to the p2 pipeline\n",
    "p2.add(factor_demean_by_sector, 'Momentum_1YR_demean_by_sector')\n"
   ]
  },
  {
   "cell_type": "markdown",
   "metadata": {},
   "source": [
    "## visualize the second pipeline"
   ]
  },
  {
   "cell_type": "code",
   "execution_count": 67,
   "metadata": {},
   "outputs": [
    {
     "data": {
      "image/png": "[encoded data removed]",
      "text/plain": [
       "<IPython.core.display.Image object>"
      ]
     },
     "execution_count": 67,
     "metadata": {},
     "output_type": "execute_result"
    }
   ],
   "source": [
    "p2.show_graph(format='png')"
   ]
  },
  {
   "cell_type": "markdown",
   "metadata": {},
   "source": [
    "## Quiz 4\n",
    "How does this pipeline compare with the first pipeline that we created earlier?"
   ]
  },
  {
   "cell_type": "markdown",
   "metadata": {},
   "source": [
    "## Answer 4 here\n"
   ]
  },
  {
   "cell_type": "markdown",
   "metadata": {},
   "source": [
    "## run pipeline and view the factor data"
   ]
  },
  {
   "cell_type": "code",
   "execution_count": 68,
   "metadata": {},
   "outputs": [],
   "source": [
    "df2 = engine.run_pipeline(p2, factor_start_date, universe_end_date)"
   ]
  },
  {
   "cell_type": "code",
   "execution_count": 69,
   "metadata": {},
   "outputs": [
    {
     "data": {
      "text/html": [
       "<div>\n",
       "<style scoped>\n",
       "    .dataframe tbody tr th:only-of-type {\n",
       "        vertical-align: middle;\n",
       "    }\n",
       "\n",
       "    .dataframe tbody tr th {\n",
       "        vertical-align: top;\n",
       "    }\n",
       "\n",
       "    .dataframe thead th {\n",
       "        text-align: right;\n",
       "    }\n",
       "</style>\n",
       "<table border=\"1\" class=\"dataframe\">\n",
       "  <thead>\n",
       "    <tr style=\"text-align: right;\">\n",
       "      <th></th>\n",
       "      <th></th>\n",
       "      <th>Momentum_1YR_demean_by_sector</th>\n",
       "    </tr>\n",
       "  </thead>\n",
       "  <tbody>\n",
       "    <tr>\n",
       "      <th rowspan=\"5\" valign=\"top\">2015-01-06</th>\n",
       "      <th>Equity(0 [A])</th>\n",
       "      <td>-0.293722</td>\n",
       "    </tr>\n",
       "    <tr>\n",
       "      <th>Equity(1 [AAL])</th>\n",
       "      <td>0.836856</td>\n",
       "    </tr>\n",
       "    <tr>\n",
       "      <th>Equity(2 [AAP])</th>\n",
       "      <td>0.246739</td>\n",
       "    </tr>\n",
       "    <tr>\n",
       "      <th>Equity(3 [AAPL])</th>\n",
       "      <td>0.142938</td>\n",
       "    </tr>\n",
       "    <tr>\n",
       "      <th>Equity(4 [ABBV])</th>\n",
       "      <td>0.006918</td>\n",
       "    </tr>\n",
       "    <tr>\n",
       "      <th>...</th>\n",
       "      <th>...</th>\n",
       "      <td>...</td>\n",
       "    </tr>\n",
       "    <tr>\n",
       "      <th rowspan=\"5\" valign=\"top\">2017-01-06</th>\n",
       "      <th>Equity(403 [XYL])</th>\n",
       "      <td>0.158150</td>\n",
       "    </tr>\n",
       "    <tr>\n",
       "      <th>Equity(404 [YUM])</th>\n",
       "      <td>0.181748</td>\n",
       "    </tr>\n",
       "    <tr>\n",
       "      <th>Equity(405 [ZBH])</th>\n",
       "      <td>-0.049533</td>\n",
       "    </tr>\n",
       "    <tr>\n",
       "      <th>Equity(406 [ZION])</th>\n",
       "      <td>0.427454</td>\n",
       "    </tr>\n",
       "    <tr>\n",
       "      <th>Equity(407 [ZTS])</th>\n",
       "      <td>0.079639</td>\n",
       "    </tr>\n",
       "  </tbody>\n",
       "</table>\n",
       "<p>206448 rows × 1 columns</p>\n",
       "</div>"
      ],
      "text/plain": [
       "                               Momentum_1YR_demean_by_sector\n",
       "2015-01-06 Equity(0 [A])                           -0.293722\n",
       "           Equity(1 [AAL])                          0.836856\n",
       "           Equity(2 [AAP])                          0.246739\n",
       "           Equity(3 [AAPL])                         0.142938\n",
       "           Equity(4 [ABBV])                         0.006918\n",
       "...                                                      ...\n",
       "2017-01-06 Equity(403 [XYL])                        0.158150\n",
       "           Equity(404 [YUM])                        0.181748\n",
       "           Equity(405 [ZBH])                       -0.049533\n",
       "           Equity(406 [ZION])                       0.427454\n",
       "           Equity(407 [ZTS])                        0.079639\n",
       "\n",
       "[206448 rows x 1 columns]"
      ]
     },
     "execution_count": 69,
     "metadata": {},
     "output_type": "execute_result"
    }
   ],
   "source": [
    "df2"
   ]
  },
  {
   "cell_type": "markdown",
   "metadata": {},
   "source": [
    "## Solution\n",
    "[Solution notebook](sector_neutral_solution.ipynb)"
   ]
  },
  {
   "cell_type": "code",
   "execution_count": null,
   "metadata": {},
   "outputs": [],
   "source": []
  }
 ],
 "metadata": {
  "kernelspec": {
   "display_name": "Python 3",
   "language": "python",
   "name": "python3"
  },
  "language_info": {
   "codemirror_mode": {
    "name": "ipython",
    "version": 3
   },
   "file_extension": ".py",
   "mimetype": "text/x-python",
   "name": "python",
   "nbconvert_exporter": "python",
   "pygments_lexer": "ipython3",
   "version": "3.9.18"
  }
 },
 "nbformat": 4,
 "nbformat_minor": 2
}
